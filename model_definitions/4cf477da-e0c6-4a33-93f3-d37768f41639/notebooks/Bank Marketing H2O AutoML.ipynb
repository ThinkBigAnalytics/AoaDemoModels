{
 "cells": [
  {
   "cell_type": "markdown",
   "id": "f5455c47-44e9-441d-b705-a839ced32058",
   "metadata": {},
   "source": [
    "# Bank Marketing in R using h2o AutoML\n",
    "\n",
    "More info on H2O AutoML at https://docs.h2o.ai/h2o/latest-stable/h2o-docs/automl.html\n",
    "\n",
    "Install and load required packages"
   ]
  },
  {
   "cell_type": "code",
   "execution_count": null,
   "id": "2d51cbac-0dee-4044-9435-83976dce5d27",
   "metadata": {},
   "outputs": [],
   "source": [
    "if(!require('h2o')){install.packages('h2o')}\n",
    "if(!require('h2o4gpu')){install.packages('h2o4gpu')}\n",
    "if(!require('getPass')){install.packages('getPass')}"
   ]
  },
  {
   "cell_type": "code",
   "execution_count": null,
   "id": "91ce2a01-6e94-451e-82ed-874577bb52b4",
   "metadata": {},
   "outputs": [],
   "source": [
    "library('tidyverse')\n",
    "library('caret')\n",
    "library(\"DBI\")\n",
    "library('dplyr')\n",
    "library('dbplyr')\n",
    "library('tdplyr')"
   ]
  },
  {
   "cell_type": "markdown",
   "id": "bd6650d9-dca9-4c67-88e9-de4d689cd670",
   "metadata": {},
   "source": [
    "Replace your cluster details for your user, password, host and database."
   ]
  },
  {
   "cell_type": "code",
   "execution_count": null,
   "id": "af3e4f52-288e-43cb-994b-c5e86206fd90",
   "metadata": {},
   "outputs": [],
   "source": [
    "host <- \"3.238.151.85\"\n",
    "user <- \"AOA_DEMO\"\n",
    "database <- \"AOA_DEMO\"\n",
    "password <- getPass::getPass(\"Enter the password: \")\n",
    "params <- sprintf(\"{\\\"host\\\":\\\"%s\\\",\\\"user\\\":\\\"%s\\\",\\\"password\\\":\\\"%s\\\",\\\"database\\\":\\\"%s\\\"}\", host, user, password, database)\n",
    "con <- DBI::dbConnect(teradatasql::TeradataDriver(), paste0(params)) "
   ]
  },
  {
   "cell_type": "markdown",
   "id": "45f237dd-dfc6-4a81-876d-761448974737",
   "metadata": {},
   "source": [
    "Load the dataset"
   ]
  },
  {
   "cell_type": "code",
   "execution_count": null,
   "id": "5121fdb0-2d12-4e92-83cf-5384d09125d9",
   "metadata": {},
   "outputs": [],
   "source": [
    "bank <- DBI::dbGetQuery(con, \"select * from bank_marketing_data\")\n",
    "bank$job <- as.factor(bank$job)\n",
    "bank$marital <- as.factor(bank$marital)\n",
    "bank$education <- as.factor(bank$education)\n",
    "bank$default <- as.factor(bank$default)\n",
    "bank$balance <- as.integer(bank$balance)\n",
    "bank$housing <- as.factor(bank$housing)\n",
    "bank$loan <- as.factor(bank$loan)\n",
    "bank$contact <- as.factor(bank$contact)\n",
    "bank$day <- as.integer(bank$day)\n",
    "bank$month <- as.factor(bank$month)\n",
    "bank$pdays <- as.integer(bank$pdays)\n",
    "bank$poutcome <- as.factor(bank$poutcome)\n",
    "bank$y <- as.factor(bank$y)"
   ]
  },
  {
   "cell_type": "markdown",
   "id": "8449de8c-fc58-41b0-bee3-726d854725e9",
   "metadata": {},
   "source": [
    "Let's inspect the dataset"
   ]
  },
  {
   "cell_type": "code",
   "execution_count": null,
   "id": "1e2b54b5-d33e-46e6-aa70-de9bd15ccf00",
   "metadata": {},
   "outputs": [],
   "source": [
    "str(bank)"
   ]
  },
  {
   "cell_type": "code",
   "execution_count": null,
   "id": "e9425152-ff06-4ee9-afc6-c774023cf089",
   "metadata": {},
   "outputs": [],
   "source": [
    "bank"
   ]
  },
  {
   "cell_type": "markdown",
   "id": "a9ae3f18-4ed7-4b9e-9235-c673ab4d28ab",
   "metadata": {},
   "source": [
    "Check for NA values"
   ]
  },
  {
   "cell_type": "code",
   "execution_count": null,
   "id": "2cee558a-625b-4e4b-b1d3-13164b18a26e",
   "metadata": {},
   "outputs": [],
   "source": [
    "table(is.na(bank))"
   ]
  },
  {
   "cell_type": "markdown",
   "id": "174fecfe-6fc6-4679-bd81-98fe84f2cd46",
   "metadata": {},
   "source": [
    "Find the number of unique ages to choose histogram bin number"
   ]
  },
  {
   "cell_type": "code",
   "execution_count": null,
   "id": "6b38e3de-dab9-4d25-b633-d1963479135c",
   "metadata": {},
   "outputs": [],
   "source": [
    "binnum <- length(unique(bank$age))\n",
    "\n",
    "ggplot(bank, aes(age, fill = y)) + \n",
    "  geom_histogram(bins = binnum) + \n",
    "  ggtitle(\"Age of subscribers and non-subscribers\") +\n",
    "  xlab(\"Age\") + \n",
    "  ylab(\"# of subscribers\") +\n",
    "  theme_bw() +\n",
    "  scale_fill_brewer(palette=\"Set2\") +\n",
    "  theme(legend.title=element_blank())"
   ]
  },
  {
   "cell_type": "markdown",
   "id": "1b16eb3f-ab47-4c32-8496-7c5c6717d4cf",
   "metadata": {},
   "source": [
    "In the histogram above we can see that there is one customer age that is significantly more prevalent than others.\n",
    "\n",
    "Now I will visualize subscriber percentage by education level, marital status, occupation, and age:"
   ]
  },
  {
   "cell_type": "code",
   "execution_count": null,
   "id": "f18d9f80-6b8d-4824-a443-46fb8c197ac8",
   "metadata": {},
   "outputs": [],
   "source": [
    "### subscriber % by education\n",
    "yn <- bank %>% group_by(education, y) %>% summarise(n = n(), .groups = 'keep')\n",
    "yed <- bank %>% group_by(education) %>% summarise(n = n())\n",
    "jed <- left_join(yn, yed, by = \"education\")\n",
    "jed <- jed %>% mutate(perc = round((n.x / n.y) * 100, digits = 0))\n",
    "\n",
    "ggplot(jed, aes(x = education, y = perc, fill = y, label = perc)) + \n",
    "  geom_bar(stat = \"identity\", alpha = 0.7) + \n",
    "  geom_text(position = \"stack\", size = 6) + \n",
    "  ggtitle(\"Percentage of subscribers by education level\") + \n",
    "  xlab(\"\") +\n",
    "  ylab(\"% subscribed\") +\n",
    "  scale_fill_brewer(palette=\"Set3\") +\n",
    "  theme_bw() +\n",
    "  theme(legend.title=element_blank()) +\n",
    "  coord_flip()"
   ]
  },
  {
   "cell_type": "code",
   "execution_count": null,
   "id": "e43fde11-535d-4058-80de-4abf716fa446",
   "metadata": {},
   "outputs": [],
   "source": [
    "### subscriber % by marital status\n",
    "mar <- bank %>% group_by(marital, y) %>% summarise(n = n(), .groups = 'keep')\n",
    "ymar <- bank %>% group_by(marital) %>% summarise(n = n())\n",
    "jmar <- left_join(mar, ymar, by = \"marital\")\n",
    "jmar <- jmar %>% mutate(perc = round((n.x / n.y) * 100, digits = 0))\n",
    "\n",
    "ggplot(jmar, aes(x = marital, y = perc, fill = y, label = perc)) + \n",
    "  geom_bar(stat = \"identity\", alpha = 0.7) + \n",
    "  geom_text(position = \"stack\", size = 6)  + \n",
    "  scale_fill_brewer(palette=\"Spectral\") +\n",
    "  ggtitle(\"Percentage of subscribers by marital status\") +\n",
    "  xlab(\"\") +\n",
    "  ylab(\"% subscribed\") +\n",
    "  theme_bw() +\n",
    "  theme(legend.title=element_blank())+\n",
    "  coord_flip()"
   ]
  },
  {
   "cell_type": "code",
   "execution_count": null,
   "id": "19fbb072-0fed-460f-8785-d047043f3064",
   "metadata": {},
   "outputs": [],
   "source": [
    "### subscribed by job type\n",
    "ageout <- data.frame(table(bank$job, bank$y))\n",
    "colnames(ageout) <- c(\"job\", \"y\", \"Freq\")\n",
    "jobs <- bank %>% group_by(job) %>% summarise(n = n())\n",
    "aj <- left_join(ageout, jobs, by = \"job\")\n",
    "aj <- aj %>% mutate(perc = round((Freq / n) * 100, digits = 0))\n",
    "\n",
    "ggplot(aj, aes(x = job, y = perc, fill = y, label = perc)) + \n",
    "  geom_bar(stat = \"identity\", alpha = 0.7) + \n",
    "  geom_text(position = \"stack\", size = 6)  + \n",
    "  scale_fill_brewer(palette=\"Set2\") +\n",
    "  ggtitle(\"Percentage of subscribers by occupation\") +\n",
    "  xlab(\"\") +\n",
    "  ylab(\"% subscribed\") +\n",
    "  theme_bw() +\n",
    "  theme(legend.title=element_blank())+\n",
    "  coord_flip()"
   ]
  },
  {
   "cell_type": "code",
   "execution_count": null,
   "id": "40843533-1acb-4afc-8cf9-9bcb3dffaf91",
   "metadata": {},
   "outputs": [],
   "source": [
    "### subscriber by age\n",
    "age <- bank %>% group_by(age, y) %>% summarise(n = n(), .groups = 'keep')\n",
    "yage <- bank %>% group_by(age) %>% summarise(n = n())\n",
    "jage <- left_join(age, yage, by = \"age\")\n",
    "jage <- jage %>% mutate(perc = round((n.x / n.y) * 100, digits = 1))\n",
    "\n",
    "ggplot(jage, aes(x = age, y = perc, fill = y, label = perc)) + \n",
    "  geom_bar(stat = \"identity\", position = \"dodge\", alpha = 0.6) + \n",
    "  scale_fill_brewer(palette=\"Paired\") +\n",
    "  ggtitle(\"Percentage of subscribers by age\") +\n",
    "  xlab(\"Age\") +\n",
    "  ylab(\"% subscribed\") +\n",
    "  theme_bw() +\n",
    "  theme(legend.title=element_blank())"
   ]
  },
  {
   "cell_type": "markdown",
   "id": "da8de48c-d3a7-4ef0-bf83-4cfa07a85268",
   "metadata": {},
   "source": [
    "Upon completing the intial exploratory data analysis, I uploaded the dataset to H2O to run it through a GBM model. The model was trained on eight of the columns in the dataset: age, job, marital, education, default, balance, housing, loan"
   ]
  },
  {
   "cell_type": "code",
   "execution_count": null,
   "id": "12baf13a-ef65-4cbd-853e-8cec3c3f78ee",
   "metadata": {},
   "outputs": [],
   "source": [
    "# Create Vantage connection using tdplyr\n",
    "con <- td_create_context(host = host,\n",
    "                         uid = user,\n",
    "                         pwd = password,\n",
    "                         dType = 'native'\n",
    ")\n",
    "\n",
    "# Set connection context\n",
    "td_set_context(con)"
   ]
  },
  {
   "cell_type": "code",
   "execution_count": null,
   "id": "d0756c1f-5817-4b68-9702-f31e5973dccf",
   "metadata": {},
   "outputs": [],
   "source": [
    "table_name <- in_schema(database, 'bank_marketing_data')\n",
    "table <- tbl(con, table_name)\n",
    "\n",
    "bank <- table %>% select(c('age', 'job', 'marital', 'education', 'default', 'balance', 'housing', 'loan', 'y')) %>% as.data.frame()\n",
    "\n",
    "bank$age <- as.integer(bank$age)\n",
    "bank$job <- as.factor(bank$job)\n",
    "bank$marital <- as.factor(bank$marital)\n",
    "bank$education <- as.factor(bank$education)\n",
    "bank$default <- as.factor(bank$default)\n",
    "bank$balance <- as.integer(bank$balance)\n",
    "bank$housing <- as.factor(bank$housing)\n",
    "bank$loan <- as.factor(bank$loan)\n",
    "bank$y <- as.factor(bank$y)\n",
    "str(bank)"
   ]
  },
  {
   "cell_type": "code",
   "execution_count": null,
   "id": "fcc94c17-a3c0-4b91-9fdf-4835cebfc1b2",
   "metadata": {},
   "outputs": [],
   "source": [
    "summary(bank)"
   ]
  },
  {
   "cell_type": "markdown",
   "id": "ba37be00-dd25-4b96-8d7c-dddb2f0a3cc7",
   "metadata": {},
   "source": [
    "Now we must initialize h2o and prepare the training dataset"
   ]
  },
  {
   "cell_type": "code",
   "execution_count": null,
   "id": "863816c3-2c01-4b8c-b3a4-1f892b663046",
   "metadata": {},
   "outputs": [],
   "source": [
    "h2o.init(nthreads = -1)\n",
    "train_df <- as.h2o(bank)"
   ]
  },
  {
   "cell_type": "markdown",
   "id": "250122bb-e0a5-49d9-b4b4-6b3e8bbff480",
   "metadata": {},
   "source": [
    "We split the dataset into train and test"
   ]
  },
  {
   "cell_type": "code",
   "execution_count": null,
   "id": "9af05a1a-ed21-4354-9ab7-63d659ef00f8",
   "metadata": {},
   "outputs": [],
   "source": [
    "splits <- h2o.splitFrame(train_df, 0.75, seed=1234)\n",
    "train <- splits[[1]]\n",
    "test <- splits[[2]]"
   ]
  },
  {
   "cell_type": "markdown",
   "id": "7f755899-82c3-4ce5-999b-8f4cc2d7678f",
   "metadata": {},
   "source": [
    "Identify predictors and response"
   ]
  },
  {
   "cell_type": "code",
   "execution_count": null,
   "id": "53b68c0d-057e-4025-bc3f-be3422f93df0",
   "metadata": {},
   "outputs": [],
   "source": [
    "y <- \"y\"\n",
    "x <- setdiff(names(train), y)"
   ]
  },
  {
   "cell_type": "markdown",
   "id": "655a4fa9-21bd-4089-a7f2-4bb465c06f61",
   "metadata": {},
   "source": [
    "Run AutoML for 20 base models"
   ]
  },
  {
   "cell_type": "code",
   "execution_count": null,
   "id": "8d22a096-874e-4e0a-83fc-943a01dd0bdc",
   "metadata": {},
   "outputs": [],
   "source": [
    "aml <- h2o.automl(x = x, y = y,\n",
    "                  training_frame = train,\n",
    "                  max_models = 20,\n",
    "                  seed = 1)"
   ]
  },
  {
   "cell_type": "markdown",
   "id": "20375c16-7b1a-41e7-96b5-2772b4c38293",
   "metadata": {},
   "source": [
    "View the AutoML Leaderboard"
   ]
  },
  {
   "cell_type": "code",
   "execution_count": null,
   "id": "c95103e9-3dfe-45b8-817d-485d7d917300",
   "metadata": {},
   "outputs": [],
   "source": [
    "lb <- aml@leaderboard\n",
    "print(lb, n = nrow(lb))  # Print all rows instead of default (6 rows)"
   ]
  },
  {
   "cell_type": "code",
   "execution_count": null,
   "id": "f9b297d7-b7fd-4c8e-9644-c0822b1d7c7d",
   "metadata": {},
   "outputs": [],
   "source": [
    "model <- aml@leader\n",
    "model"
   ]
  },
  {
   "cell_type": "markdown",
   "id": "444ec17c-721e-4aa2-9f61-0ed7f8d5752a",
   "metadata": {},
   "source": [
    "Now we evaluate the predictions against the test dataframe."
   ]
  },
  {
   "cell_type": "code",
   "execution_count": null,
   "id": "2ea6605b-e884-4597-9751-f8c00e5ec98c",
   "metadata": {},
   "outputs": [],
   "source": [
    "pred <- h2o.predict(model, test)"
   ]
  },
  {
   "cell_type": "code",
   "execution_count": null,
   "id": "e273b91e-9331-4013-a59a-5c593af188b8",
   "metadata": {},
   "outputs": [],
   "source": [
    "# Eval performance:\n",
    "perf <- h2o.performance(model)\n",
    "perf"
   ]
  },
  {
   "cell_type": "markdown",
   "id": "2ee17d94-4c2d-494d-93c8-e3f9dcd5c6e3",
   "metadata": {},
   "source": [
    "The h2o.predict function outputs a data frame with “no” and “yes” prediction columns with the percentage and the prediction column. With this dataframe we can get the accurracy of our model with a confusion matrix."
   ]
  },
  {
   "cell_type": "code",
   "execution_count": null,
   "id": "d4026c08-b45e-4ecb-8805-7bb7c4a1f32b",
   "metadata": {},
   "outputs": [],
   "source": [
    "pred_df <- as.data.frame(pred)\n",
    "test_df <- as.data.frame(test)\n",
    "library(caret)\n",
    "cm <- confusionMatrix(test_df$y, pred_df$predict)\n",
    "cm\n",
    "fourfoldplot(cm$table)\n",
    "#png(\"artifacts/output/confusion_matrix.png\", width = 860, height = 860)"
   ]
  },
  {
   "cell_type": "markdown",
   "id": "9c5e98ec-c8fd-4a1a-9b61-7d73fd481c91",
   "metadata": {},
   "source": [
    "And to get the model metrics"
   ]
  },
  {
   "cell_type": "code",
   "execution_count": null,
   "id": "54a61e88-dfec-4004-8109-f6609843095a",
   "metadata": {},
   "outputs": [],
   "source": [
    "cm$overall"
   ]
  }
 ],
 "metadata": {
  "kernelspec": {
   "display_name": "R",
   "language": "R",
   "name": "ir"
  },
  "language_info": {
   "codemirror_mode": "r",
   "file_extension": ".r",
   "mimetype": "text/x-r-source",
   "name": "R",
   "pygments_lexer": "r",
   "version": "4.0.3"
  }
 },
 "nbformat": 4,
 "nbformat_minor": 5
}