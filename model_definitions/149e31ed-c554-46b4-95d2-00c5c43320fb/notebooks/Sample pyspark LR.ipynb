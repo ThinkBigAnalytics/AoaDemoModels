{
 "cells": [
  {
   "cell_type": "code",
   "execution_count": 2,
   "metadata": {},
   "outputs": [
    {
     "data": {
      "text/html": [
       "\n",
       "            <div>\n",
       "                <p><b>SparkSession - in-memory</b></p>\n",
       "                \n",
       "        <div>\n",
       "            <p><b>SparkContext</b></p>\n",
       "\n",
       "            <p><a href=\"http://10.226.1.115:4040\">Spark UI</a></p>\n",
       "\n",
       "            <dl>\n",
       "              <dt>Version</dt>\n",
       "                <dd><code>v2.4.3</code></dd>\n",
       "              <dt>Master</dt>\n",
       "                <dd><code>local[*]</code></dd>\n",
       "              <dt>AppName</dt>\n",
       "                <dd><code>pyspark-shell</code></dd>\n",
       "            </dl>\n",
       "        </div>\n",
       "        \n",
       "            </div>\n",
       "        "
      ],
      "text/plain": [
       "<pyspark.sql.session.SparkSession at 0x11a9d7b38>"
      ]
     },
     "execution_count": 2,
     "metadata": {},
     "output_type": "execute_result"
    }
   ],
   "source": [
    "spark"
   ]
  },
  {
   "cell_type": "code",
   "execution_count": 27,
   "metadata": {},
   "outputs": [],
   "source": [
    "spark.conf.set(\"spark.aoa.modelPath\", \"/tmp/aoa/spark\")\n",
    "\n",
    "dataset_url = \"https://raw.githubusercontent.com/apache/spark/branch-2.4/data/mllib/sample_libsvm_data.txt\""
   ]
  },
  {
   "cell_type": "code",
   "execution_count": 41,
   "metadata": {},
   "outputs": [],
   "source": [
    "# %%writefile ../training.py\n",
    "import logging\n",
    "\n",
    "from pyspark.ml.classification import LogisticRegression\n",
    "from pyspark import SparkConf\n",
    "from pyspark.sql import SparkSession\n",
    "from pyspark.sql.functions import monotonically_increasing_id \n",
    "\n",
    "logging.getLogger(\"py4j\").setLevel(logging.ERROR)\n",
    "\n",
    "# spark name and other properties are set by the framework launcher in spark-submit. don't override\n",
    "spark = SparkSession.builder \\\n",
    "    .config(conf=SparkConf()) \\\n",
    "    .getOrCreate()\n",
    "\n",
    "\n",
    "def read_dataset_from_url(spark, url):\n",
    "    # for this demo we're downloading the dataset locally and then reading it. This is obviously not production setting\n",
    "    # https://raw.githubusercontent.com/apache/spark/branch-2.4/data/mllib/sample_libsvm_data.txt\n",
    "    urllib.request.urlretrieve(url, \"/tmp/data.txt\")\n",
    "    return spark.read.format(\"libsvm\").load(\"/tmp/data.txt\")\n",
    "\n",
    "\n",
    "train = read_dataset_from_url(spark, dataset_url)\n",
    "\n",
    "lr = LogisticRegression(maxIter=10,\n",
    "                        regParam=0.3,\n",
    "                        elasticNetParam=0.8)\n",
    "\n",
    "logging.info(\"Starting training...\")\n",
    "\n",
    "lr_model = lr.fit(train)\n",
    "\n",
    "# Print the coefficients and intercept for logistic regression\n",
    "logging.debug(\"Coefficients: {}\".format(str(lr_model.coefficients)))\n",
    "logging.debug(\"Intercept: {}\".format(str(lr_model.intercept)))\n",
    "\n",
    "logging.info(\"Finished training\")\n",
    "\n",
    "lr_model.write().overwrite().save(spark.conf.get(\"spark.aoa.modelPath\"))\n",
    "logging.info(\"Saved trained model\")"
   ]
  },
  {
   "cell_type": "code",
   "execution_count": 39,
   "metadata": {},
   "outputs": [
    {
     "data": {
      "image/png": "[encoded data removed]",
      "text/plain": [
       "<Figure size 432x288 with 1 Axes>"
      ]
     },
     "metadata": {},
     "output_type": "display_data"
    },
    {
     "name": "stdout",
     "output_type": "stream",
     "text": [
      "Training set areaUnderROC: 1.0\n"
     ]
    }
   ],
   "source": [
    "import matplotlib.pyplot as plt\n",
    "\n",
    "summary = lr_model.summary\n",
    "roc = summary.roc.toPandas()\n",
    "plt.plot(roc['FPR'],roc['TPR'])\n",
    "plt.ylabel('False Positive Rate')\n",
    "plt.xlabel('True Positive Rate')\n",
    "plt.title('ROC Curve')\n",
    "plt.show()\n",
    "print('Training set areaUnderROC: ' + str(summary.areaUnderROC))"
   ]
  },
  {
   "cell_type": "code",
   "execution_count": 36,
   "metadata": {
    "scrolled": true
   },
   "outputs": [
    {
     "name": "stdout",
     "output_type": "stream",
     "text": [
      "+-----+--------------------+---+--------------------+--------------------+----------+\n",
      "|label|            features| id|       rawPrediction|         probability|prediction|\n",
      "+-----+--------------------+---+--------------------+--------------------+----------+\n",
      "|  0.0|(692,[127,128,129...|  0|[0.73765439548910...|[0.67648272431605...|       0.0|\n",
      "|  1.0|(692,[158,159,160...|  1|[-1.2286964884747...|[0.22640965216205...|       1.0|\n",
      "|  1.0|(692,[124,125,126...|  2|[-1.2596645795726...|[0.22103163838284...|       1.0|\n",
      "|  1.0|(692,[152,153,154...|  3|[-1.0845333752697...|[0.25264907653471...|       1.0|\n",
      "|  1.0|(692,[151,152,153...|  4|[-1.2371063245185...|[0.22494007343582...|       1.0|\n",
      "|  0.0|(692,[129,130,131...|  5|[0.73839617859787...|[0.67664504514663...|       0.0|\n",
      "|  1.0|(692,[158,159,160...|  6|[-1.2123284339889...|[0.22928932070495...|       1.0|\n",
      "|  1.0|(692,[99,100,101,...|  7|[-0.2350856805053...|[0.44149776057216...|       1.0|\n",
      "|  0.0|(692,[154,155,156...|  8|[0.10357406008713...|[0.52587039191803...|       0.0|\n",
      "|  0.0|(692,[127,128,129...|  9|[0.72217476589208...|[0.67308573545409...|       0.0|\n",
      "+-----+--------------------+---+--------------------+--------------------+----------+\n",
      "only showing top 10 rows\n",
      "\n"
     ]
    }
   ],
   "source": [
    "from pyspark.ml.classification import LogisticRegressionModel\n",
    "lr_model = LogisticRegressionModel.load(spark.conf.get(\"spark.aoa.modelPath\"))\n",
    "\n",
    "test = read_dataset_from_url(spark, \"https://raw.githubusercontent.com/apache/spark/branch-2.4/data/mllib/sample_libsvm_data.txt\")\n",
    "\n",
    "# add rowId for comparison later\n",
    "test = test.select(\"*\").withColumn(\"id\", monotonically_increasing_id())\n",
    "\n",
    "predictions = lr_model.transform(test)\n",
    "predictions.show(10)"
   ]
  },
  {
   "cell_type": "code",
   "execution_count": 32,
   "metadata": {},
   "outputs": [
    {
     "name": "stdout",
     "output_type": "stream",
     "text": [
      "+--------------------+\n",
      "|       rawPrediction|\n",
      "+--------------------+\n",
      "|[0.73765439548910...|\n",
      "|[-1.2286964884747...|\n",
      "|[-1.2596645795726...|\n",
      "|[-1.0845333752697...|\n",
      "|[-1.2371063245185...|\n",
      "|[0.73839617859787...|\n",
      "|[-1.2123284339889...|\n",
      "|[-0.2350856805053...|\n",
      "|[0.10357406008713...|\n",
      "|[0.72217476589208...|\n",
      "+--------------------+\n",
      "only showing top 10 rows\n",
      "\n"
     ]
    }
   ],
   "source": [
    "predictions.select(\"rawPrediction\").show(10)"
   ]
  },
  {
   "cell_type": "code",
   "execution_count": 33,
   "metadata": {},
   "outputs": [
    {
     "name": "stdout",
     "output_type": "stream",
     "text": [
      "Test Area Under ROC 1.0\n"
     ]
    }
   ],
   "source": [
    "from pyspark.ml.evaluation import BinaryClassificationEvaluator\n",
    "evaluator = BinaryClassificationEvaluator()\n",
    "print('Test Area Under ROC', evaluator.evaluate(predictions))"
   ]
  },
  {
   "cell_type": "code",
   "execution_count": null,
   "metadata": {},
   "outputs": [],
   "source": []
  }
 ],
 "metadata": {
  "kernelspec": {
   "display_name": "Python 3",
   "language": "python",
   "name": "python3"
  },
  "language_info": {
   "codemirror_mode": {
    "name": "ipython",
    "version": 3
   },
   "file_extension": ".py",
   "mimetype": "text/x-python",
   "name": "python",
   "nbconvert_exporter": "python",
   "pygments_lexer": "ipython3",
   "version": "3.5.5"
  }
 },
 "nbformat": 4,
 "nbformat_minor": 2
}
