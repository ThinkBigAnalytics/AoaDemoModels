{
 "cells": [
  {
   "cell_type": "markdown",
   "metadata": {},
   "source": [
    "<img src=\"https://www.teradata.com/Teradata/Images/Rebrand/Teradata_logo-two_color.png\" alt=\"Teradata\" width=\"400\" align=\"right\"/>\n",
    "\n",
    "<br/>\n",
    "\n",
    "# TELCO CHURN DEMO\n",
    "# **PART 2: MODELLING (NAIVE BAYES)** "
   ]
  },
  {
   "cell_type": "code",
   "execution_count": 1,
   "metadata": {},
   "outputs": [
    {
     "name": "stdout",
     "output_type": "stream",
     "text": [
      "No connections defined. Use %addconnect to define a connection.\n"
     ]
    }
   ],
   "source": [
    "%lsconnect"
   ]
  },
  {
   "cell_type": "code",
   "execution_count": 64,
   "metadata": {},
   "outputs": [
    {
     "name": "stdout",
     "output_type": "stream",
     "text": [
      "Success: 'demo' connection established\n"
     ]
    }
   ],
   "source": [
    "%connect demo"
   ]
  },
  {
   "cell_type": "markdown",
   "metadata": {},
   "source": [
    "#### 1. Split data into training and testing sets"
   ]
  },
  {
   "cell_type": "code",
   "execution_count": 67,
   "metadata": {},
   "outputs": [
    {
     "data": {
      "text/plain": [
       "Success: 17 rows affected"
      ]
     },
     "execution_count": 67,
     "metadata": {
      "application/vnd.teradata.resultset": ""
     },
     "output_type": "execute_result"
    }
   ],
   "source": [
    "DROP TABLE TelcoChurn.model_dataset_train;"
   ]
  },
  {
   "cell_type": "code",
   "execution_count": 68,
   "metadata": {},
   "outputs": [
    {
     "data": {
      "text/plain": [
       "Success: 0 rows affected"
      ]
     },
     "execution_count": 68,
     "metadata": {
      "application/vnd.teradata.resultset": ""
     },
     "output_type": "execute_result"
    }
   ],
   "source": [
    "CREATE MULTISET TABLE TelcoChurn.model_dataset_train\n",
    "AS (\n",
    "    SELECT\n",
    "    customerid\n",
    "    , token\n",
    "    , category\n",
    "    FROM TelcoChurn.model_dataset_raw\n",
    "    SAMPLE 0.7)\n",
    "WITH DATA;"
   ]
  },
  {
   "cell_type": "code",
   "execution_count": 69,
   "metadata": {},
   "outputs": [
    {
     "data": {
      "application/vnd.teradata.resultset": "[{\"Count(*)\":\"753184\"}]\n",
      "text/html": [
       "<div class = \"td-resultset-table-div\" style = \"max-height: 77px; overflow-y: auto\"><style> table {border: 1px solid rgb(207, 207, 207) !important; border-collapse: collapse !important; margin-top: 1px !important;} th {border: 1px solid rgb(198,198,198) !important; border-collapse: collapse !important; padding: 2px 5px !important; font-size: 13px !important; min-width:150px !important; max-width: 150px !important; white-space: nowrap !important; overflow:hidden !important; text-overflow:ellipsis !important;} tr:nth-child(even) {background: rgba(243, 243, 243, 0.75) !important;} td {border: 1px solid rgb(207, 207, 207) !important; border-collapse: collapse !important; padding: 2px 5px !important; font-size: 13px !important; min-width:150px !important; max-width: 150px !important; white-space: nowrap !important; overflow:hidden !important; text-overflow:ellipsis !important;}</style><table><thead><tr style= \"background: #efefef;\"><th>Count(*)</th></tr></thead><tr><td>753184</td></tr></table></div>"
      ]
     },
     "execution_count": 69,
     "metadata": {
      "application/vnd.teradata.resultset": "{\"resultSetID\":\"/Users/ck186030/Desktop/Analytics_Practice_2019/Summit/Use_case_walkthrough/files_walk_through_summit/Teradata/Resultsets/2019.06.30_14.44.40.046_CEST\",\"historyID\":238,\"chunkID\":\"00001\",\"sessionid\":\"\",\"portnum\":\"\",\"dockermode\":\"standalone\",\"totalRowCount\":1,\"rowLimit\":0,\"columnMetadata\":[{\"columnName\":\"Count(*)\",\"columnTypeName\":\"INTEGER\"}]}"
     },
     "output_type": "execute_result"
    }
   ],
   "source": [
    "SELECT COUNT(*)\n",
    "FROM TelcoChurn.model_dataset_train"
   ]
  },
  {
   "cell_type": "markdown",
   "metadata": {},
   "source": [
    "##### Note: Due to EXCEPT STATEMENT to create remaining TEST data SPOOL allotment must be modified by the DBC for each user"
   ]
  },
  {
   "cell_type": "code",
   "execution_count": 75,
   "metadata": {},
   "outputs": [
    {
     "data": {
      "text/plain": [
       "Success: 0 rows affected"
      ]
     },
     "execution_count": 75,
     "metadata": {
      "application/vnd.teradata.resultset": ""
     },
     "output_type": "execute_result"
    }
   ],
   "source": [
    "/* DROP TABLE TelcoChurn.model_dataset_test; */"
   ]
  },
  {
   "cell_type": "code",
   "execution_count": 76,
   "metadata": {},
   "outputs": [
    {
     "data": {
      "text/plain": [
       "Success: 0 rows affected"
      ]
     },
     "execution_count": 76,
     "metadata": {
      "application/vnd.teradata.resultset": ""
     },
     "output_type": "execute_result"
    }
   ],
   "source": [
    "/* CREATE MULTISET TABLE TelcoChurn.model_dataset_test\n",
    "AS (\n",
    "    SELECT *\n",
    "    FROM TelcoChurn.model_dataset_raw\n",
    "    EXCEPT\n",
    "    SELECT *\n",
    "    FROM TelcoChurn.model_dataset_train)\n",
    "WITH DATA;\n",
    "*/"
   ]
  },
  {
   "cell_type": "code",
   "execution_count": 77,
   "metadata": {},
   "outputs": [
    {
     "data": {
      "application/vnd.teradata.resultset": "[{\"Count(*)\":\"255660\"}]\n",
      "text/html": [
       "<div class = \"td-resultset-table-div\" style = \"max-height: 77px; overflow-y: auto\"><style> table {border: 1px solid rgb(207, 207, 207) !important; border-collapse: collapse !important; margin-top: 1px !important;} th {border: 1px solid rgb(198,198,198) !important; border-collapse: collapse !important; padding: 2px 5px !important; font-size: 13px !important; min-width:150px !important; max-width: 150px !important; white-space: nowrap !important; overflow:hidden !important; text-overflow:ellipsis !important;} tr:nth-child(even) {background: rgba(243, 243, 243, 0.75) !important;} td {border: 1px solid rgb(207, 207, 207) !important; border-collapse: collapse !important; padding: 2px 5px !important; font-size: 13px !important; min-width:150px !important; max-width: 150px !important; white-space: nowrap !important; overflow:hidden !important; text-overflow:ellipsis !important;}</style><table><thead><tr style= \"background: #efefef;\"><th>Count(*)</th></tr></thead><tr><td>255660</td></tr></table></div>"
      ]
     },
     "execution_count": 77,
     "metadata": {
      "application/vnd.teradata.resultset": "{\"resultSetID\":\"/Users/ck186030/Desktop/Analytics_Practice_2019/Summit/Use_case_walkthrough/files_walk_through_summit/Teradata/Resultsets/2019.06.30_14.59.01.134_CEST\",\"historyID\":246,\"chunkID\":\"00001\",\"sessionid\":\"\",\"portnum\":\"\",\"dockermode\":\"standalone\",\"totalRowCount\":1,\"rowLimit\":0,\"columnMetadata\":[{\"columnName\":\"Count(*)\",\"columnTypeName\":\"INTEGER\"}]}"
     },
     "output_type": "execute_result"
    }
   ],
   "source": [
    "SELECT COUNT(*)\n",
    "FROM TelcoChurn.model_dataset_test"
   ]
  },
  {
   "cell_type": "markdown",
   "metadata": {},
   "source": [
    "#### 2a. Perform Naive Bayes on assocaited text tokens for known PATHS (TRAINING TABLE ONLY)"
   ]
  },
  {
   "cell_type": "code",
   "execution_count": 78,
   "metadata": {},
   "outputs": [
    {
     "data": {
      "text/plain": [
       "Success: 17 rows affected"
      ]
     },
     "execution_count": 78,
     "metadata": {
      "application/vnd.teradata.resultset": ""
     },
     "output_type": "execute_result"
    }
   ],
   "source": [
    "DROP TABLE TelcoChurn.csi_telco_churn_model;"
   ]
  },
  {
   "cell_type": "code",
   "execution_count": 79,
   "metadata": {},
   "outputs": [
    {
     "data": {
      "text/plain": [
       "Success: 0 rows affected"
      ]
     },
     "execution_count": 79,
     "metadata": {
      "application/vnd.teradata.resultset": ""
     },
     "output_type": "execute_result"
    }
   ],
   "source": [
    "CREATE MULTISET TABLE TelcoChurn.csi_telco_churn_model \n",
    "AS (\n",
    "  SELECT * FROM NaiveBayesTextClassifierTrainer (\n",
    "    ON (\n",
    "      SELECT * FROM NaiveBayesTextClassifierInternal (\n",
    "        ON ( SELECT *\n",
    "        FROM TelcoChurn.model_dataset_train\n",
    "        ) AS \"input\" PARTITION BY category\n",
    "        USING\n",
    "        TokenColumn ('token')\n",
    "       \tModelType ('Bernoulli')\n",
    "        DocIDColumns ('customerid')\n",
    "        DocCategoryColumn ('category')\n",
    "      ) AS alias_1\n",
    "    ) PARTITION BY 1\n",
    "  ) AS alias_2 \n",
    ")\n",
    "WITH DATA;"
   ]
  },
  {
   "cell_type": "markdown",
   "metadata": {},
   "source": [
    "#### 2b.  Perform the Naive Bayes PREDICT function using the MLE on the TEST data"
   ]
  },
  {
   "cell_type": "code",
   "execution_count": 80,
   "metadata": {},
   "outputs": [
    {
     "data": {
      "text/plain": [
       "Success: 17 rows affected"
      ]
     },
     "execution_count": 80,
     "metadata": {
      "application/vnd.teradata.resultset": ""
     },
     "output_type": "execute_result"
    }
   ],
   "source": [
    "DROP TABLE TelcoChurn.csi_telco_churn_predict_test;"
   ]
  },
  {
   "cell_type": "code",
   "execution_count": 81,
   "metadata": {},
   "outputs": [
    {
     "data": {
      "text/plain": [
       "Success: 0 rows affected"
      ]
     },
     "execution_count": 81,
     "metadata": {
      "application/vnd.teradata.resultset": ""
     },
     "output_type": "execute_result"
    }
   ],
   "source": [
    "CREATE TABLE TelcoChurn.csi_telco_churn_predict_test\n",
    "AS\n",
    "(SELECT *\n",
    "    FROM NaiveBayesTextClassifierPredict@coprocessor (\n",
    "    ON (SELECT *\n",
    "        FROM TelcoChurn.model_dataset_test\n",
    "    ) AS predicts \n",
    "    PARTITION BY customerid\n",
    "    ON TelcoChurn.csi_telco_churn_model AS model DIMENSION\n",
    "    USING\n",
    "    InputTokenColumn ('token')\n",
    "    ModelType ('Bernoulli')\n",
    "    DocIDColumns ('customerid')\n",
    "    TopK (2)\n",
    "  ) AS dt\n",
    ")\n",
    "WITH DATA;"
   ]
  },
  {
   "cell_type": "code",
   "execution_count": 82,
   "metadata": {},
   "outputs": [
    {
     "data": {
      "application/vnd.teradata.resultset": "[{\"customerid\":\"558168\",\"loglik\":\"-7.749040059469703\",\"prediction\":\"NON CHURN\"},{\"customerid\":\"673933\",\"loglik\":\"-18.791565318066237\",\"prediction\":\"CHURN\"},{\"customerid\":\"673933\",\"loglik\":\"-7.8751827699268\",\"prediction\":\"NON CHURN\"},{\"customerid\":\"493913\",\"loglik\":\"-4.027077821614265\",\"prediction\":\"NON CHURN\"},{\"customerid\":\"378617\",\"loglik\":\"-17.273757728478063\",\"prediction\":\"CHURN\"},{\"customerid\":\"378617\",\"loglik\":\"-4.4731268381743305\",\"prediction\":\"NON CHURN\"},{\"customerid\":\"493913\",\"loglik\":\"-15.295057756599759\",\"prediction\":\"CHURN\"},{\"customerid\":\"558168\",\"loglik\":\"-13.75461271565261\",\"prediction\":\"CHURN\"},{\"customerid\":\"417117\",\"loglik\":\"-14.560237879639248\",\"prediction\":\"CHURN\"},{\"customerid\":\"417117\",\"loglik\":\"-4.030388153492816\",\"prediction\":\"NON CHURN\"}]\n",
      "text/html": [
       "<div class = \"td-resultset-table-div\" style = \"max-height: 257px; overflow-y: auto\"><style> table {border: 1px solid rgb(207, 207, 207) !important; border-collapse: collapse !important; margin-top: 1px !important;} th {border: 1px solid rgb(198,198,198) !important; border-collapse: collapse !important; padding: 2px 5px !important; font-size: 13px !important; min-width:150px !important; max-width: 150px !important; white-space: nowrap !important; overflow:hidden !important; text-overflow:ellipsis !important;} tr:nth-child(even) {background: rgba(243, 243, 243, 0.75) !important;} td {border: 1px solid rgb(207, 207, 207) !important; border-collapse: collapse !important; padding: 2px 5px !important; font-size: 13px !important; min-width:150px !important; max-width: 150px !important; white-space: nowrap !important; overflow:hidden !important; text-overflow:ellipsis !important;}</style><table><thead><tr style= \"background: #efefef;\"><th>customerid</th><th>prediction</th><th>loglik</th></tr></thead><tr><td>558168</td><td>NON CHURN</td><td>-7.749040059469703</td></tr><tr><td>673933</td><td>CHURN</td><td>-18.791565318066237</td></tr><tr><td>673933</td><td>NON CHURN</td><td>-7.8751827699268</td></tr><tr><td>493913</td><td>NON CHURN</td><td>-4.027077821614265</td></tr><tr><td>378617</td><td>CHURN</td><td>-17.273757728478063</td></tr><tr><td>378617</td><td>NON CHURN</td><td>-4.4731268381743305</td></tr><tr><td>493913</td><td>CHURN</td><td>-15.295057756599759</td></tr><tr><td>558168</td><td>CHURN</td><td>-13.75461271565261</td></tr><tr><td>417117</td><td>CHURN</td><td>-14.560237879639248</td></tr><tr><td>417117</td><td>NON CHURN</td><td>-4.030388153492816</td></tr></table></div>"
      ]
     },
     "execution_count": 82,
     "metadata": {
      "application/vnd.teradata.resultset": "{\"resultSetID\":\"/Users/ck186030/Desktop/Analytics_Practice_2019/Summit/Use_case_walkthrough/files_walk_through_summit/Teradata/Resultsets/2019.06.30_15.01.00.641_CEST\",\"historyID\":251,\"chunkID\":\"00001\",\"sessionid\":\"\",\"portnum\":\"\",\"dockermode\":\"standalone\",\"totalRowCount\":10,\"rowLimit\":0,\"columnMetadata\":[{\"columnName\":\"customerid\",\"columnTypeName\":\"INTEGER\"},{\"columnNumber\":1,\"columnName\":\"prediction\",\"columnTypeName\":\"LONG VARCHAR\",\"length\":32000,\"scale\":32000},{\"columnNumber\":2,\"columnName\":\"loglik\",\"columnTypeName\":\"FLOAT\"}]}"
     },
     "output_type": "execute_result"
    }
   ],
   "source": [
    "SELECT\n",
    "TOP 10 *\n",
    "FROM TelcoChurn.csi_telco_churn_predict_test;"
   ]
  },
  {
   "cell_type": "markdown",
   "metadata": {},
   "source": [
    "#### 2 Confusion matrix"
   ]
  },
  {
   "cell_type": "code",
   "execution_count": 2,
   "metadata": {},
   "outputs": [
    {
     "ename": "ERROR",
     "evalue": "No active connection",
     "output_type": "error",
     "traceback": [
      "No active connection"
     ]
    }
   ],
   "source": [
    "REPACE VIEW csi_telco_churn_results AS \n",
    "    SELECT P.customerid, P.prediction, P.loglik, T.category actual\n",
    "        FROM csi_telco_churn_predict_test P \n",
    "        JOIN model_dataset_test T ON P.customerid = T.customerid;"
   ]
  },
  {
   "cell_type": "markdown",
   "metadata": {},
   "source": [
    "#### 3. Create a confusion matrix to evaluate Naive Bayes model performance"
   ]
  },
  {
   "cell_type": "code",
   "execution_count": 89,
   "metadata": {},
   "outputs": [
    {
     "data": {
      "text/plain": [
       "Success: 16 rows affected"
      ]
     },
     "execution_count": 89,
     "metadata": {
      "application/vnd.teradata.resultset": ""
     },
     "output_type": "execute_result"
    }
   ],
   "source": [
    "DROP TABLE TelcoChurn.count_output;\n",
    "DROP TABLE TelcoChurn.stat_output;\n",
    "DROP TABLE TelcoChurn.acc_output;"
   ]
  },
  {
   "cell_type": "code",
   "execution_count": 92,
   "metadata": {},
   "outputs": [
    {
     "data": {
      "application/vnd.teradata.resultset": "[{\"message\":\"Success !\"},{\"message\":\"The result has been outputted to output tables\"}]\n",
      "text/html": [
       "<div class = \"td-resultset-table-div\" style = \"max-height: 97px; overflow-y: auto\"><style> table {border: 1px solid rgb(207, 207, 207) !important; border-collapse: collapse !important; margin-top: 1px !important;} th {border: 1px solid rgb(198,198,198) !important; border-collapse: collapse !important; padding: 2px 5px !important; font-size: 13px !important; min-width:150px !important; max-width: 150px !important; white-space: nowrap !important; overflow:hidden !important; text-overflow:ellipsis !important;} tr:nth-child(even) {background: rgba(243, 243, 243, 0.75) !important;} td {border: 1px solid rgb(207, 207, 207) !important; border-collapse: collapse !important; padding: 2px 5px !important; font-size: 13px !important; min-width:150px !important; max-width: 150px !important; white-space: nowrap !important; overflow:hidden !important; text-overflow:ellipsis !important;}</style><table><thead><tr style= \"background: #efefef;\"><th>message</th></tr></thead><tr><td>Success !</td></tr><tr><td>The result has been outputted to output tables</td></tr></table></div>"
      ]
     },
     "execution_count": 92,
     "metadata": {
      "application/vnd.teradata.resultset": "{\"resultSetID\":\"/Users/ck186030/Desktop/Analytics_Practice_2019/Summit/Use_case_walkthrough/files_walk_through_summit/Teradata/Resultsets/2019.06.30_15.03.42.796_CEST\",\"historyID\":261,\"chunkID\":\"00001\",\"sessionid\":\"\",\"portnum\":\"\",\"dockermode\":\"standalone\",\"totalRowCount\":2,\"rowLimit\":0,\"columnMetadata\":[{\"columnName\":\"message\",\"columnTypeName\":\"VARCHAR\",\"length\":500,\"scale\":500}]}"
     },
     "output_type": "execute_result"
    }
   ],
   "source": [
    "SELECT * FROM ConfusionMatrix (\n",
    "  ON TelcoChurn.csi_telco_churn_results\n",
    "    PARTITION BY 1\n",
    "    OUT TABLE CountTable (TelcoChurn.count_output)\n",
    "    OUT TABLE StatTable (TelcoChurn.stat_output)\n",
    "    OUT TABLE AccuracyTable(TelcoChurn.acc_output)\n",
    "    USING\n",
    "    ObsColumn ('actual')\n",
    "    PredictColumn ('prediction')\n",
    ") AS dt;"
   ]
  },
  {
   "cell_type": "code",
   "execution_count": 93,
   "metadata": {},
   "outputs": [
    {
     "data": {
      "application/vnd.teradata.resultset": "[{\"0\":\"21\",\"1\":\"17\",\"observation\":\"1\"},{\"0\":\"153387\",\"1\":\"0\",\"observation\":\"0\"}]\n",
      "text/html": [
       "<div class = \"td-resultset-table-div\" style = \"max-height: 97px; overflow-y: auto\"><style> table {border: 1px solid rgb(207, 207, 207) !important; border-collapse: collapse !important; margin-top: 1px !important;} th {border: 1px solid rgb(198,198,198) !important; border-collapse: collapse !important; padding: 2px 5px !important; font-size: 13px !important; min-width:150px !important; max-width: 150px !important; white-space: nowrap !important; overflow:hidden !important; text-overflow:ellipsis !important;} tr:nth-child(even) {background: rgba(243, 243, 243, 0.75) !important;} td {border: 1px solid rgb(207, 207, 207) !important; border-collapse: collapse !important; padding: 2px 5px !important; font-size: 13px !important; min-width:150px !important; max-width: 150px !important; white-space: nowrap !important; overflow:hidden !important; text-overflow:ellipsis !important;}</style><table><thead><tr style= \"background: #efefef;\"><th>observation</th><th>0</th><th>1</th></tr></thead><tr><td>1</td><td>21</td><td>17</td></tr><tr><td>0</td><td>153387</td><td>0</td></tr></table></div>"
      ]
     },
     "execution_count": 93,
     "metadata": {
      "application/vnd.teradata.resultset": "{\"resultSetID\":\"/Users/ck186030/Desktop/Analytics_Practice_2019/Summit/Use_case_walkthrough/files_walk_through_summit/Teradata/Resultsets/2019.06.30_15.05.06.674_CEST\",\"historyID\":262,\"chunkID\":\"00001\",\"sessionid\":\"\",\"portnum\":\"\",\"dockermode\":\"standalone\",\"totalRowCount\":2,\"rowLimit\":0,\"columnMetadata\":[{\"columnName\":\"observation\",\"columnTypeName\":\"VARCHAR\",\"length\":128,\"scale\":128},{\"columnNumber\":1,\"columnName\":\"0\",\"columnTypeName\":\"VARCHAR\",\"length\":128,\"scale\":128},{\"columnNumber\":2,\"columnName\":\"1\",\"columnTypeName\":\"VARCHAR\",\"length\":128,\"scale\":128}]}"
     },
     "output_type": "execute_result"
    }
   ],
   "source": [
    "SELECT * FROM TelcoChurn.count_output;"
   ]
  },
  {
   "cell_type": "code",
   "execution_count": 94,
   "metadata": {},
   "outputs": [
    {
     "data": {
      "application/vnd.teradata.resultset": "[{\"key\":\"95% CI\",\"value\":\"(0.9998, 0.9999)\"},{\"key\":\"P-Value [Acc \\u003e NIR]\",\"value\":\"0.0019\"},{\"key\":\"Mcnemar Test P-Value\",\"value\":\"0\"},{\"key\":\"Accuracy\",\"value\":\"0.9999\"},{\"key\":\"Null Error Rate\",\"value\":\"0.0002\"},{\"key\":\"Kappa\",\"value\":\"0.9665\"}]\n",
      "text/html": [
       "<div class = \"td-resultset-table-div\" style = \"max-height: 177px; overflow-y: auto\"><style> table {border: 1px solid rgb(207, 207, 207) !important; border-collapse: collapse !important; margin-top: 1px !important;} th {border: 1px solid rgb(198,198,198) !important; border-collapse: collapse !important; padding: 2px 5px !important; font-size: 13px !important; min-width:150px !important; max-width: 150px !important; white-space: nowrap !important; overflow:hidden !important; text-overflow:ellipsis !important;} tr:nth-child(even) {background: rgba(243, 243, 243, 0.75) !important;} td {border: 1px solid rgb(207, 207, 207) !important; border-collapse: collapse !important; padding: 2px 5px !important; font-size: 13px !important; min-width:150px !important; max-width: 150px !important; white-space: nowrap !important; overflow:hidden !important; text-overflow:ellipsis !important;}</style><table><thead><tr style= \"background: #efefef;\"><th>key</th><th>value</th></tr></thead><tr><td>95% CI</td><td>(0.9998, 0.9999)</td></tr><tr><td>P-Value [Acc > NIR]</td><td>0.0019</td></tr><tr><td>Mcnemar Test P-Value</td><td>0</td></tr><tr><td>Accuracy</td><td>0.9999</td></tr><tr><td>Null Error Rate</td><td>0.0002</td></tr><tr><td>Kappa</td><td>0.9665</td></tr></table></div>"
      ]
     },
     "execution_count": 94,
     "metadata": {
      "application/vnd.teradata.resultset": "{\"resultSetID\":\"/Users/ck186030/Desktop/Analytics_Practice_2019/Summit/Use_case_walkthrough/files_walk_through_summit/Teradata/Resultsets/2019.06.30_15.05.08.297_CEST\",\"historyID\":263,\"chunkID\":\"00001\",\"sessionid\":\"\",\"portnum\":\"\",\"dockermode\":\"standalone\",\"totalRowCount\":6,\"rowLimit\":0,\"columnMetadata\":[{\"columnName\":\"key\",\"columnTypeName\":\"VARCHAR\",\"length\":30,\"scale\":30},{\"columnNumber\":1,\"columnName\":\"value\",\"columnTypeName\":\"VARCHAR\",\"length\":40,\"scale\":40}]}"
     },
     "output_type": "execute_result"
    }
   ],
   "source": [
    "SELECT * FROM TelcoChurn.stat_output;"
   ]
  },
  {
   "cell_type": "code",
   "execution_count": 95,
   "metadata": {},
   "outputs": [
    {
     "data": {
      "application/vnd.teradata.resultset": "[{\"0\":\"0.4474\",\"1\":\"1\",\"measure\":\"Specificity\"},{\"0\":\"1\",\"1\":\"0.9999\",\"measure\":\"Neg Pred Value\"},{\"0\":\"0.9998\",\"1\":\"0.0001\",\"measure\":\"Detection Rate\"},{\"0\":\"0.7237\",\"1\":\"0.7237\",\"measure\":\"Balanced Accuracy\"},{\"0\":\"1\",\"1\":\"0.4474\",\"measure\":\"Sensitivity\"},{\"0\":\"0.9999\",\"1\":\"1\",\"measure\":\"Pos Pred Value\"},{\"0\":\"0.9998\",\"1\":\"0.0002\",\"measure\":\"Prevalence\"},{\"0\":\"0.9999\",\"1\":\"0.0001\",\"measure\":\"Detection Prevalence\"}]\n",
      "text/html": [
       "<div class = \"td-resultset-table-div\" style = \"max-height: 217px; overflow-y: auto\"><style> table {border: 1px solid rgb(207, 207, 207) !important; border-collapse: collapse !important; margin-top: 1px !important;} th {border: 1px solid rgb(198,198,198) !important; border-collapse: collapse !important; padding: 2px 5px !important; font-size: 13px !important; min-width:150px !important; max-width: 150px !important; white-space: nowrap !important; overflow:hidden !important; text-overflow:ellipsis !important;} tr:nth-child(even) {background: rgba(243, 243, 243, 0.75) !important;} td {border: 1px solid rgb(207, 207, 207) !important; border-collapse: collapse !important; padding: 2px 5px !important; font-size: 13px !important; min-width:150px !important; max-width: 150px !important; white-space: nowrap !important; overflow:hidden !important; text-overflow:ellipsis !important;}</style><table><thead><tr style= \"background: #efefef;\"><th>measure</th><th>0</th><th>1</th></tr></thead><tr><td>Specificity</td><td>0.4474</td><td>1</td></tr><tr><td>Neg Pred Value</td><td>1</td><td>0.9999</td></tr><tr><td>Detection Rate</td><td>0.9998</td><td>0.0001</td></tr><tr><td>Balanced Accuracy</td><td>0.7237</td><td>0.7237</td></tr><tr><td>Sensitivity</td><td>1</td><td>0.4474</td></tr><tr><td>Pos Pred Value</td><td>0.9999</td><td>1</td></tr><tr><td>Prevalence</td><td>0.9998</td><td>0.0002</td></tr><tr><td>Detection Prevalence</td><td>0.9999</td><td>0.0001</td></tr></table></div>"
      ]
     },
     "execution_count": 95,
     "metadata": {
      "application/vnd.teradata.resultset": "{\"resultSetID\":\"/Users/ck186030/Desktop/Analytics_Practice_2019/Summit/Use_case_walkthrough/files_walk_through_summit/Teradata/Resultsets/2019.06.30_15.05.11.893_CEST\",\"historyID\":264,\"chunkID\":\"00001\",\"sessionid\":\"\",\"portnum\":\"\",\"dockermode\":\"standalone\",\"totalRowCount\":8,\"rowLimit\":0,\"columnMetadata\":[{\"columnName\":\"measure\",\"columnTypeName\":\"VARCHAR\",\"length\":30,\"scale\":30},{\"columnNumber\":1,\"columnName\":\"0\",\"columnTypeName\":\"VARCHAR\",\"length\":128,\"scale\":128},{\"columnNumber\":2,\"columnName\":\"1\",\"columnTypeName\":\"VARCHAR\",\"length\":128,\"scale\":128}]}"
     },
     "output_type": "execute_result"
    }
   ],
   "source": [
    "SELECT * FROM TelcoChurn.acc_output;"
   ]
  }
 ],
 "metadata": {
  "kernelspec": {
   "display_name": "Teradata SQL",
   "language": "Teradata SQL",
   "name": "teradatasql"
  },
  "language_info": {
   "codemirror_mode": "Teradata SQL",
   "file_extension": ".tdrs",
   "mimetype": "application/vnd.teradata.resultset",
   "name": "Teradata SQL",
   "nbconvert_exporter": "",
   "pygments_lexer": "",
   "version": "16.20"
  }
 },
 "nbformat": 4,
 "nbformat_minor": 2
}
