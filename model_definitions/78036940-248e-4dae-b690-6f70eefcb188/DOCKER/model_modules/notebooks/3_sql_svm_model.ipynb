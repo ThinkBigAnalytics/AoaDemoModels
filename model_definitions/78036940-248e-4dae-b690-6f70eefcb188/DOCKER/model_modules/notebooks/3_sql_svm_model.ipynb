{
 "cells": [
  {
   "cell_type": "markdown",
   "metadata": {},
   "source": [
    "<img src=\"https://www.teradata.com/Teradata/Images/Rebrand/Teradata_logo-two_color.png\" alt=\"Teradata\" width=\"400\" align=\"right\"/>\n",
    "\n",
    "<br/>\n",
    "\n",
    "# TELCO CHURN DEMO\n",
    "# **PART 3: MODELLING (SUPPORT VECTOR MACHINE - SVM)**"
   ]
  },
  {
   "cell_type": "code",
   "execution_count": 21,
   "metadata": {},
   "outputs": [
    {
     "name": "stdout",
     "output_type": "stream",
     "text": [
      "*Connected:   NAME=demo, USER=vantage, HOST=tddb-env-d-268.vantage.demo.intellicloud.teradata.com\n"
     ]
    }
   ],
   "source": [
    "%lsconnect"
   ]
  },
  {
   "cell_type": "code",
   "execution_count": 22,
   "metadata": {},
   "outputs": [
    {
     "name": "stdout",
     "output_type": "stream",
     "text": [
      "Success: 'demo' connection established\n"
     ]
    }
   ],
   "source": [
    "%connect demo"
   ]
  },
  {
   "cell_type": "markdown",
   "metadata": {},
   "source": [
    "#### 1a. Create an SVM model on assocaited text tokens for known PATHS (TRAINING TABLE ONLY) **ADS from PART 2**"
   ]
  },
  {
   "cell_type": "code",
   "execution_count": 26,
   "metadata": {},
   "outputs": [
    {
     "data": {
      "text/plain": [
       "Success: 15 rows affected"
      ]
     },
     "execution_count": 26,
     "metadata": {
      "application/vnd.teradata.resultset": ""
     },
     "output_type": "execute_result"
    }
   ],
   "source": [
    "DROP TABLE TelcoChurn.svm_telco_churn_model;"
   ]
  },
  {
   "cell_type": "code",
   "execution_count": 27,
   "metadata": {},
   "outputs": [
    {
     "data": {
      "application/vnd.teradata.resultset": "[{\"message\":\"Model table is created successfully\"},{\"message\":\"The model is trained with 204455 samples and 12 unique attributes \"},{\"message\":\"There are 2 different classes in the training set\"},{\"message\":\"The model is converged after 11 steps with epsilon 0.01, the value of the loss function for the training set is 65.476902280285\"},{\"message\":\"The corresponding training parameters are cost:1.0 bias:0.0\"}]\n",
      "text/html": [
       "<div class = \"td-resultset-table-div\" style = \"max-height: 157px; overflow-y: auto\"><style> table {border: 1px solid rgb(207, 207, 207) !important; border-collapse: collapse !important; margin-top: 1px !important;} th {border: 1px solid rgb(198,198,198) !important; border-collapse: collapse !important; padding: 2px 5px !important; font-size: 13px !important; min-width:150px !important; max-width: 150px !important; white-space: nowrap !important; overflow:hidden !important; text-overflow:ellipsis !important;} tr:nth-child(even) {background: rgba(243, 243, 243, 0.75) !important;} td {border: 1px solid rgb(207, 207, 207) !important; border-collapse: collapse !important; padding: 2px 5px !important; font-size: 13px !important; min-width:150px !important; max-width: 150px !important; white-space: nowrap !important; overflow:hidden !important; text-overflow:ellipsis !important;}</style><table><thead><tr style= \"background: #efefef;\"><th>message</th></tr></thead><tr><td>Model table is created successfully</td></tr><tr><td>The model is trained with 204455 samples and 12 unique attributes </td></tr><tr><td>There are 2 different classes in the training set</td></tr><tr><td>The model is converged after 11 steps with epsilon 0.01, the value of the loss function for the training set is 65.476902280285</td></tr><tr><td>The corresponding training parameters are cost:1.0 bias:0.0</td></tr></table></div>"
      ]
     },
     "execution_count": 27,
     "metadata": {
      "application/vnd.teradata.resultset": "{\"resultSetID\":\"/Users/ck186030/Desktop/Analytics_Practice_2019/Summit/Use_case_walkthrough/files_walk_through_summit/Teradata/Resultsets/2019.06.30_15.10.34.484_CEST\",\"historyID\":269,\"chunkID\":\"00001\",\"sessionid\":\"\",\"portnum\":\"\",\"dockermode\":\"standalone\",\"totalRowCount\":5,\"rowLimit\":0,\"columnMetadata\":[{\"columnName\":\"message\",\"columnTypeName\":\"VARCHAR\",\"length\":500,\"scale\":500}]}"
     },
     "output_type": "execute_result"
    }
   ],
   "source": [
    "SELECT * FROM SVMSparse (\n",
    "  ON TelcoChurn.model_dataset_train AS InputTable\n",
    "  OUT TABLE ModelTable (TelcoChurn.svm_telco_churn_model)\n",
    "  USING\n",
    "  IDColumn ('customerid')\n",
    "  AttributeNameColumn ('token')\n",
    "  ResponseColumn ('category')\n",
    "  MaxStep (150)\n",
    "  Seed (0)\n",
    ") AS dt;"
   ]
  },
  {
   "cell_type": "markdown",
   "metadata": {},
   "source": [
    "#### 1b.  Perform the SVM PREDICT function using the MLE on the TEST data"
   ]
  },
  {
   "cell_type": "code",
   "execution_count": 28,
   "metadata": {},
   "outputs": [
    {
     "data": {
      "text/plain": [
       "Success: 17 rows affected"
      ]
     },
     "execution_count": 28,
     "metadata": {
      "application/vnd.teradata.resultset": ""
     },
     "output_type": "execute_result"
    }
   ],
   "source": [
    "DROP TABLE TelcoChurn.csi_telco_churn_predict_svm_test;"
   ]
  },
  {
   "cell_type": "code",
   "execution_count": 29,
   "metadata": {},
   "outputs": [
    {
     "data": {
      "text/plain": [
       "Success: 0 rows affected"
      ]
     },
     "execution_count": 29,
     "metadata": {
      "application/vnd.teradata.resultset": ""
     },
     "output_type": "execute_result"
    }
   ],
   "source": [
    "CREATE TABLE TelcoChurn.csi_telco_churn_predict_svm_test\n",
    "AS\n",
    "(SELECT *\n",
    "    FROM SparseSVMPredictor@coprocessor (\n",
    "    ON TelcoChurn.model_dataset_test AS input\n",
    "    PARTITION BY customerid\n",
    "    ON TelcoChurn.svm_telco_churn_model AS model DIMENSION\n",
    "    USING\n",
    "    SampleIDColumn ('customerid')\n",
    "    AttributeColumn ('token')\n",
    "  ) AS dt\n",
    ")\n",
    "WITH DATA;"
   ]
  },
  {
   "cell_type": "code",
   "execution_count": 30,
   "metadata": {},
   "outputs": [
    {
     "data": {
      "application/vnd.teradata.resultset": "[{\"customerid\":\"351924\",\"predict_confidence\":\"0.7313363707012815\",\"predict_value\":\"NON CHURN\"},{\"customerid\":\"599686\",\"predict_confidence\":\"0.7371807837315669\",\"predict_value\":\"NON CHURN\"},{\"customerid\":\"367014\",\"predict_confidence\":\"0.7406517903199477\",\"predict_value\":\"NON CHURN\"},{\"customerid\":\"524766\",\"predict_confidence\":\"0.7450795955129667\",\"predict_value\":\"NON CHURN\"},{\"customerid\":\"389751\",\"predict_confidence\":\"0.9567345847110764\",\"predict_value\":\"NON CHURN\"},{\"customerid\":\"443341\",\"predict_confidence\":\"0.7450795955129667\",\"predict_value\":\"NON CHURN\"},{\"customerid\":\"370032\",\"predict_confidence\":\"0.8914599296326652\",\"predict_value\":\"NON CHURN\"},{\"customerid\":\"422215\",\"predict_confidence\":\"0.8898314690454716\",\"predict_value\":\"NON CHURN\"},{\"customerid\":\"551663\",\"predict_confidence\":\"0.7330674477467816\",\"predict_value\":\"NON CHURN\"},{\"customerid\":\"512225\",\"predict_confidence\":\"0.7450795955129667\",\"predict_value\":\"NON CHURN\"}]\n",
      "text/html": [
       "<div class = \"td-resultset-table-div\" style = \"max-height: 257px; overflow-y: auto\"><style> table {border: 1px solid rgb(207, 207, 207) !important; border-collapse: collapse !important; margin-top: 1px !important;} th {border: 1px solid rgb(198,198,198) !important; border-collapse: collapse !important; padding: 2px 5px !important; font-size: 13px !important; min-width:150px !important; max-width: 150px !important; white-space: nowrap !important; overflow:hidden !important; text-overflow:ellipsis !important;} tr:nth-child(even) {background: rgba(243, 243, 243, 0.75) !important;} td {border: 1px solid rgb(207, 207, 207) !important; border-collapse: collapse !important; padding: 2px 5px !important; font-size: 13px !important; min-width:150px !important; max-width: 150px !important; white-space: nowrap !important; overflow:hidden !important; text-overflow:ellipsis !important;}</style><table><thead><tr style= \"background: #efefef;\"><th>customerid</th><th>predict_value</th><th>predict_confidence</th></tr></thead><tr><td>351924</td><td>NON CHURN</td><td>0.7313363707012815</td></tr><tr><td>599686</td><td>NON CHURN</td><td>0.7371807837315669</td></tr><tr><td>367014</td><td>NON CHURN</td><td>0.7406517903199477</td></tr><tr><td>524766</td><td>NON CHURN</td><td>0.7450795955129667</td></tr><tr><td>389751</td><td>NON CHURN</td><td>0.9567345847110764</td></tr><tr><td>443341</td><td>NON CHURN</td><td>0.7450795955129667</td></tr><tr><td>370032</td><td>NON CHURN</td><td>0.8914599296326652</td></tr><tr><td>422215</td><td>NON CHURN</td><td>0.8898314690454716</td></tr><tr><td>551663</td><td>NON CHURN</td><td>0.7330674477467816</td></tr><tr><td>512225</td><td>NON CHURN</td><td>0.7450795955129667</td></tr></table></div>"
      ]
     },
     "execution_count": 30,
     "metadata": {
      "application/vnd.teradata.resultset": "{\"resultSetID\":\"/Users/ck186030/Desktop/Analytics_Practice_2019/Summit/Use_case_walkthrough/files_walk_through_summit/Teradata/Resultsets/2019.06.30_15.11.13.534_CEST\",\"historyID\":272,\"chunkID\":\"00001\",\"sessionid\":\"\",\"portnum\":\"\",\"dockermode\":\"standalone\",\"totalRowCount\":10,\"rowLimit\":0,\"columnMetadata\":[{\"columnName\":\"customerid\",\"columnTypeName\":\"INTEGER\"},{\"columnNumber\":1,\"columnName\":\"predict_value\",\"columnTypeName\":\"VARCHAR\",\"length\":128,\"scale\":128},{\"columnNumber\":2,\"columnName\":\"predict_confidence\",\"columnTypeName\":\"FLOAT\"}]}"
     },
     "output_type": "execute_result"
    }
   ],
   "source": [
    "SELECT\n",
    "TOP 10 *\n",
    "FROM TelcoChurn.csi_telco_churn_predict_svm_test;"
   ]
  },
  {
   "cell_type": "markdown",
   "metadata": {},
   "source": [
    "#### 1c. Create a binary output for confusion matrix"
   ]
  },
  {
   "cell_type": "code",
   "execution_count": 32,
   "metadata": {},
   "outputs": [
    {
     "data": {
      "text/plain": [
       "Success: 17 rows affected"
      ]
     },
     "execution_count": 32,
     "metadata": {
      "application/vnd.teradata.resultset": ""
     },
     "output_type": "execute_result"
    }
   ],
   "source": [
    "DROP TABLE TelcoChurn.csi_telco_churn_predict_test_binary_svm;"
   ]
  },
  {
   "cell_type": "code",
   "execution_count": 33,
   "metadata": {},
   "outputs": [
    {
     "data": {
      "text/plain": [
       "Success: 0 rows affected"
      ]
     },
     "execution_count": 33,
     "metadata": {
      "application/vnd.teradata.resultset": ""
     },
     "output_type": "execute_result"
    }
   ],
   "source": [
    "CREATE TABLE TelcoChurn.csi_telco_churn_predict_test_binary_svm\n",
    "AS\n",
    "(SELECT\n",
    "    actuals.customerid\n",
    "    , actuals.actual\n",
    "    , predictions.prediction\n",
    "    FROM(SELECT\n",
    "        orig_test.customerid\n",
    "        , CASE\n",
    "        WHEN TRIM(orig_test.category) LIKE 'NON CHURN' THEN 0 ELSE 1\n",
    "        END AS actual\n",
    "        FROM (SELECT\n",
    "            customerid\n",
    "            , category\n",
    "            FROM TelcoChurn.model_dataset_test\n",
    "            GROUP BY customerid, category\n",
    "            ) orig_test\n",
    "        ) actuals\n",
    "    INNER JOIN \n",
    "        (SELECT\n",
    "        customerid\n",
    "        , CASE WHEN TRIM(predict_value) LIKE 'CHURN' THEN 1 ELSE 0 END AS prediction\n",
    "        FROM TelcoChurn.csi_telco_churn_predict_svm_test\n",
    "        ) predictions\n",
    "    ON actuals.customerid = predictions.customerid\n",
    ")\n",
    "WITH DATA;"
   ]
  },
  {
   "cell_type": "code",
   "execution_count": 34,
   "metadata": {},
   "outputs": [
    {
     "data": {
      "application/vnd.teradata.resultset": "[{\"actual\":\"0\",\"customerid\":\"351924\",\"prediction\":\"0\"},{\"actual\":\"0\",\"customerid\":\"599686\",\"prediction\":\"0\"},{\"actual\":\"0\",\"customerid\":\"367014\",\"prediction\":\"0\"},{\"actual\":\"0\",\"customerid\":\"524766\",\"prediction\":\"0\"},{\"actual\":\"0\",\"customerid\":\"389751\",\"prediction\":\"0\"},{\"actual\":\"0\",\"customerid\":\"443341\",\"prediction\":\"0\"},{\"actual\":\"0\",\"customerid\":\"370032\",\"prediction\":\"0\"},{\"actual\":\"0\",\"customerid\":\"422215\",\"prediction\":\"0\"},{\"actual\":\"0\",\"customerid\":\"551663\",\"prediction\":\"0\"},{\"actual\":\"0\",\"customerid\":\"512225\",\"prediction\":\"0\"}]\n",
      "text/html": [
       "<div class = \"td-resultset-table-div\" style = \"max-height: 257px; overflow-y: auto\"><style> table {border: 1px solid rgb(207, 207, 207) !important; border-collapse: collapse !important; margin-top: 1px !important;} th {border: 1px solid rgb(198,198,198) !important; border-collapse: collapse !important; padding: 2px 5px !important; font-size: 13px !important; min-width:150px !important; max-width: 150px !important; white-space: nowrap !important; overflow:hidden !important; text-overflow:ellipsis !important;} tr:nth-child(even) {background: rgba(243, 243, 243, 0.75) !important;} td {border: 1px solid rgb(207, 207, 207) !important; border-collapse: collapse !important; padding: 2px 5px !important; font-size: 13px !important; min-width:150px !important; max-width: 150px !important; white-space: nowrap !important; overflow:hidden !important; text-overflow:ellipsis !important;}</style><table><thead><tr style= \"background: #efefef;\"><th>customerid</th><th>actual</th><th>prediction</th></tr></thead><tr><td>351924</td><td>0</td><td>0</td></tr><tr><td>599686</td><td>0</td><td>0</td></tr><tr><td>367014</td><td>0</td><td>0</td></tr><tr><td>524766</td><td>0</td><td>0</td></tr><tr><td>389751</td><td>0</td><td>0</td></tr><tr><td>443341</td><td>0</td><td>0</td></tr><tr><td>370032</td><td>0</td><td>0</td></tr><tr><td>422215</td><td>0</td><td>0</td></tr><tr><td>551663</td><td>0</td><td>0</td></tr><tr><td>512225</td><td>0</td><td>0</td></tr></table></div>"
      ]
     },
     "execution_count": 34,
     "metadata": {
      "application/vnd.teradata.resultset": "{\"resultSetID\":\"/Users/ck186030/Desktop/Analytics_Practice_2019/Summit/Use_case_walkthrough/files_walk_through_summit/Teradata/Resultsets/2019.06.30_15.11.43.753_CEST\",\"historyID\":276,\"chunkID\":\"00001\",\"sessionid\":\"\",\"portnum\":\"\",\"dockermode\":\"standalone\",\"totalRowCount\":10,\"rowLimit\":0,\"columnMetadata\":[{\"columnName\":\"customerid\",\"columnTypeName\":\"INTEGER\"},{\"columnNumber\":1,\"columnName\":\"actual\",\"columnTypeName\":\"BYTEINT\"},{\"columnNumber\":2,\"columnName\":\"prediction\",\"columnTypeName\":\"BYTEINT\"}]}"
     },
     "output_type": "execute_result"
    }
   ],
   "source": [
    "SELECT\n",
    "TOP 10 *\n",
    "FROM TelcoChurn.csi_telco_churn_predict_test_binary_svm;"
   ]
  },
  {
   "cell_type": "markdown",
   "metadata": {},
   "source": [
    "#### 2. Create a confusion matrix to evaluate SVM model performance"
   ]
  },
  {
   "cell_type": "code",
   "execution_count": 35,
   "metadata": {},
   "outputs": [
    {
     "data": {
      "text/plain": [
       "Success: 16 rows affected"
      ]
     },
     "execution_count": 35,
     "metadata": {
      "application/vnd.teradata.resultset": ""
     },
     "output_type": "execute_result"
    }
   ],
   "source": [
    "DROP TABLE TelcoChurn.count_output_svm;"
   ]
  },
  {
   "cell_type": "code",
   "execution_count": 36,
   "metadata": {},
   "outputs": [
    {
     "data": {
      "text/plain": [
       "Success: 15 rows affected"
      ]
     },
     "execution_count": 36,
     "metadata": {
      "application/vnd.teradata.resultset": ""
     },
     "output_type": "execute_result"
    }
   ],
   "source": [
    "DROP TABLE TelcoChurn.stat_output_svm;"
   ]
  },
  {
   "cell_type": "code",
   "execution_count": 37,
   "metadata": {},
   "outputs": [
    {
     "data": {
      "text/plain": [
       "Success: 16 rows affected"
      ]
     },
     "execution_count": 37,
     "metadata": {
      "application/vnd.teradata.resultset": ""
     },
     "output_type": "execute_result"
    }
   ],
   "source": [
    "DROP TABLE TelcoChurn.acc_output_svm;"
   ]
  },
  {
   "cell_type": "code",
   "execution_count": 38,
   "metadata": {},
   "outputs": [
    {
     "data": {
      "application/vnd.teradata.resultset": "[{\"message\":\"Success !\"},{\"message\":\"The result has been outputted to output tables\"}]\n",
      "text/html": [
       "<div class = \"td-resultset-table-div\" style = \"max-height: 97px; overflow-y: auto\"><style> table {border: 1px solid rgb(207, 207, 207) !important; border-collapse: collapse !important; margin-top: 1px !important;} th {border: 1px solid rgb(198,198,198) !important; border-collapse: collapse !important; padding: 2px 5px !important; font-size: 13px !important; min-width:150px !important; max-width: 150px !important; white-space: nowrap !important; overflow:hidden !important; text-overflow:ellipsis !important;} tr:nth-child(even) {background: rgba(243, 243, 243, 0.75) !important;} td {border: 1px solid rgb(207, 207, 207) !important; border-collapse: collapse !important; padding: 2px 5px !important; font-size: 13px !important; min-width:150px !important; max-width: 150px !important; white-space: nowrap !important; overflow:hidden !important; text-overflow:ellipsis !important;}</style><table><thead><tr style= \"background: #efefef;\"><th>message</th></tr></thead><tr><td>Success !</td></tr><tr><td>The result has been outputted to output tables</td></tr></table></div>"
      ]
     },
     "execution_count": 38,
     "metadata": {
      "application/vnd.teradata.resultset": "{\"resultSetID\":\"/Users/ck186030/Desktop/Analytics_Practice_2019/Summit/Use_case_walkthrough/files_walk_through_summit/Teradata/Resultsets/2019.06.30_15.12.30.764_CEST\",\"historyID\":280,\"chunkID\":\"00001\",\"sessionid\":\"\",\"portnum\":\"\",\"dockermode\":\"standalone\",\"totalRowCount\":2,\"rowLimit\":0,\"columnMetadata\":[{\"columnName\":\"message\",\"columnTypeName\":\"VARCHAR\",\"length\":500,\"scale\":500}]}"
     },
     "output_type": "execute_result"
    }
   ],
   "source": [
    "SELECT * FROM ConfusionMatrix (\n",
    "  ON TelcoChurn.csi_telco_churn_predict_test_binary_svm\n",
    "    PARTITION BY 1\n",
    "    OUT TABLE CountTable (TelcoChurn.count_output_svm)\n",
    "    OUT TABLE StatTable (TelcoChurn.stat_output_svm)\n",
    "    OUT TABLE AccuracyTable(TelcoChurn.acc_output_svm)\n",
    "    USING\n",
    "    ObsColumn ('actual')\n",
    "    PredictColumn ('prediction')\n",
    ") AS dt;"
   ]
  },
  {
   "cell_type": "code",
   "execution_count": 39,
   "metadata": {},
   "outputs": [
    {
     "data": {
      "application/vnd.teradata.resultset": "[{\"0\":\"22\",\"1\":\"16\",\"observation\":\"1\"},{\"0\":\"153387\",\"1\":\"0\",\"observation\":\"0\"}]\n",
      "text/html": [
       "<div class = \"td-resultset-table-div\" style = \"max-height: 97px; overflow-y: auto\"><style> table {border: 1px solid rgb(207, 207, 207) !important; border-collapse: collapse !important; margin-top: 1px !important;} th {border: 1px solid rgb(198,198,198) !important; border-collapse: collapse !important; padding: 2px 5px !important; font-size: 13px !important; min-width:150px !important; max-width: 150px !important; white-space: nowrap !important; overflow:hidden !important; text-overflow:ellipsis !important;} tr:nth-child(even) {background: rgba(243, 243, 243, 0.75) !important;} td {border: 1px solid rgb(207, 207, 207) !important; border-collapse: collapse !important; padding: 2px 5px !important; font-size: 13px !important; min-width:150px !important; max-width: 150px !important; white-space: nowrap !important; overflow:hidden !important; text-overflow:ellipsis !important;}</style><table><thead><tr style= \"background: #efefef;\"><th>observation</th><th>0</th><th>1</th></tr></thead><tr><td>1</td><td>22</td><td>16</td></tr><tr><td>0</td><td>153387</td><td>0</td></tr></table></div>"
      ]
     },
     "execution_count": 39,
     "metadata": {
      "application/vnd.teradata.resultset": "{\"resultSetID\":\"/Users/ck186030/Desktop/Analytics_Practice_2019/Summit/Use_case_walkthrough/files_walk_through_summit/Teradata/Resultsets/2019.06.30_15.12.35.600_CEST\",\"historyID\":281,\"chunkID\":\"00001\",\"sessionid\":\"\",\"portnum\":\"\",\"dockermode\":\"standalone\",\"totalRowCount\":2,\"rowLimit\":0,\"columnMetadata\":[{\"columnName\":\"observation\",\"columnTypeName\":\"VARCHAR\",\"length\":128,\"scale\":128},{\"columnNumber\":1,\"columnName\":\"0\",\"columnTypeName\":\"VARCHAR\",\"length\":128,\"scale\":128},{\"columnNumber\":2,\"columnName\":\"1\",\"columnTypeName\":\"VARCHAR\",\"length\":128,\"scale\":128}]}"
     },
     "output_type": "execute_result"
    }
   ],
   "source": [
    "SELECT * FROM TelcoChurn.count_output_svm;"
   ]
  },
  {
   "cell_type": "code",
   "execution_count": 40,
   "metadata": {},
   "outputs": [
    {
     "data": {
      "application/vnd.teradata.resultset": "[{\"key\":\"95% CI\",\"value\":\"(0.9998, 0.9999)\"},{\"key\":\"P-Value [Acc \\u003e NIR]\",\"value\":\"0.0035\"},{\"key\":\"Mcnemar Test P-Value\",\"value\":\"0\"},{\"key\":\"Accuracy\",\"value\":\"0.9999\"},{\"key\":\"Null Error Rate\",\"value\":\"0.0002\"},{\"key\":\"Kappa\",\"value\":\"0.9643\"}]\n",
      "text/html": [
       "<div class = \"td-resultset-table-div\" style = \"max-height: 177px; overflow-y: auto\"><style> table {border: 1px solid rgb(207, 207, 207) !important; border-collapse: collapse !important; margin-top: 1px !important;} th {border: 1px solid rgb(198,198,198) !important; border-collapse: collapse !important; padding: 2px 5px !important; font-size: 13px !important; min-width:150px !important; max-width: 150px !important; white-space: nowrap !important; overflow:hidden !important; text-overflow:ellipsis !important;} tr:nth-child(even) {background: rgba(243, 243, 243, 0.75) !important;} td {border: 1px solid rgb(207, 207, 207) !important; border-collapse: collapse !important; padding: 2px 5px !important; font-size: 13px !important; min-width:150px !important; max-width: 150px !important; white-space: nowrap !important; overflow:hidden !important; text-overflow:ellipsis !important;}</style><table><thead><tr style= \"background: #efefef;\"><th>key</th><th>value</th></tr></thead><tr><td>95% CI</td><td>(0.9998, 0.9999)</td></tr><tr><td>P-Value [Acc > NIR]</td><td>0.0035</td></tr><tr><td>Mcnemar Test P-Value</td><td>0</td></tr><tr><td>Accuracy</td><td>0.9999</td></tr><tr><td>Null Error Rate</td><td>0.0002</td></tr><tr><td>Kappa</td><td>0.9643</td></tr></table></div>"
      ]
     },
     "execution_count": 40,
     "metadata": {
      "application/vnd.teradata.resultset": "{\"resultSetID\":\"/Users/ck186030/Desktop/Analytics_Practice_2019/Summit/Use_case_walkthrough/files_walk_through_summit/Teradata/Resultsets/2019.06.30_15.12.36.189_CEST\",\"historyID\":282,\"chunkID\":\"00001\",\"sessionid\":\"\",\"portnum\":\"\",\"dockermode\":\"standalone\",\"totalRowCount\":6,\"rowLimit\":0,\"columnMetadata\":[{\"columnName\":\"key\",\"columnTypeName\":\"VARCHAR\",\"length\":30,\"scale\":30},{\"columnNumber\":1,\"columnName\":\"value\",\"columnTypeName\":\"VARCHAR\",\"length\":40,\"scale\":40}]}"
     },
     "output_type": "execute_result"
    }
   ],
   "source": [
    "SELECT * FROM TelcoChurn.stat_output_svm;"
   ]
  },
  {
   "cell_type": "code",
   "execution_count": 41,
   "metadata": {},
   "outputs": [
    {
     "data": {
      "application/vnd.teradata.resultset": "[{\"0\":\"0.4211\",\"1\":\"1\",\"measure\":\"Specificity\"},{\"0\":\"1\",\"1\":\"0.9999\",\"measure\":\"Neg Pred Value\"},{\"0\":\"0.9998\",\"1\":\"0.0001\",\"measure\":\"Detection Rate\"},{\"0\":\"0.7105\",\"1\":\"0.7105\",\"measure\":\"Balanced Accuracy\"},{\"0\":\"1\",\"1\":\"0.4211\",\"measure\":\"Sensitivity\"},{\"0\":\"0.9999\",\"1\":\"1\",\"measure\":\"Pos Pred Value\"},{\"0\":\"0.9998\",\"1\":\"0.0002\",\"measure\":\"Prevalence\"},{\"0\":\"0.9999\",\"1\":\"0.0001\",\"measure\":\"Detection Prevalence\"}]\n",
      "text/html": [
       "<div class = \"td-resultset-table-div\" style = \"max-height: 217px; overflow-y: auto\"><style> table {border: 1px solid rgb(207, 207, 207) !important; border-collapse: collapse !important; margin-top: 1px !important;} th {border: 1px solid rgb(198,198,198) !important; border-collapse: collapse !important; padding: 2px 5px !important; font-size: 13px !important; min-width:150px !important; max-width: 150px !important; white-space: nowrap !important; overflow:hidden !important; text-overflow:ellipsis !important;} tr:nth-child(even) {background: rgba(243, 243, 243, 0.75) !important;} td {border: 1px solid rgb(207, 207, 207) !important; border-collapse: collapse !important; padding: 2px 5px !important; font-size: 13px !important; min-width:150px !important; max-width: 150px !important; white-space: nowrap !important; overflow:hidden !important; text-overflow:ellipsis !important;}</style><table><thead><tr style= \"background: #efefef;\"><th>measure</th><th>0</th><th>1</th></tr></thead><tr><td>Specificity</td><td>0.4211</td><td>1</td></tr><tr><td>Neg Pred Value</td><td>1</td><td>0.9999</td></tr><tr><td>Detection Rate</td><td>0.9998</td><td>0.0001</td></tr><tr><td>Balanced Accuracy</td><td>0.7105</td><td>0.7105</td></tr><tr><td>Sensitivity</td><td>1</td><td>0.4211</td></tr><tr><td>Pos Pred Value</td><td>0.9999</td><td>1</td></tr><tr><td>Prevalence</td><td>0.9998</td><td>0.0002</td></tr><tr><td>Detection Prevalence</td><td>0.9999</td><td>0.0001</td></tr></table></div>"
      ]
     },
     "execution_count": 41,
     "metadata": {
      "application/vnd.teradata.resultset": "{\"resultSetID\":\"/Users/ck186030/Desktop/Analytics_Practice_2019/Summit/Use_case_walkthrough/files_walk_through_summit/Teradata/Resultsets/2019.06.30_15.12.36.808_CEST\",\"historyID\":283,\"chunkID\":\"00001\",\"sessionid\":\"\",\"portnum\":\"\",\"dockermode\":\"standalone\",\"totalRowCount\":8,\"rowLimit\":0,\"columnMetadata\":[{\"columnName\":\"measure\",\"columnTypeName\":\"VARCHAR\",\"length\":30,\"scale\":30},{\"columnNumber\":1,\"columnName\":\"0\",\"columnTypeName\":\"VARCHAR\",\"length\":128,\"scale\":128},{\"columnNumber\":2,\"columnName\":\"1\",\"columnTypeName\":\"VARCHAR\",\"length\":128,\"scale\":128}]}"
     },
     "output_type": "execute_result"
    }
   ],
   "source": [
    "SELECT * FROM TelcoChurn.acc_output_svm;"
   ]
  }
 ],
 "metadata": {
  "kernelspec": {
   "display_name": "Teradata SQL",
   "language": "Teradata SQL",
   "name": "teradatasql"
  },
  "language_info": {
   "codemirror_mode": "Teradata SQL",
   "file_extension": ".tdrs",
   "mimetype": "application/vnd.teradata.resultset",
   "name": "Teradata SQL",
   "nbconvert_exporter": "",
   "pygments_lexer": "",
   "version": "16.20"
  }
 },
 "nbformat": 4,
 "nbformat_minor": 2
}
