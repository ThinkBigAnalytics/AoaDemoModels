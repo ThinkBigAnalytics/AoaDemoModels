{
 "cells": [
  {
   "cell_type": "code",
   "execution_count": 13,
   "metadata": {},
   "outputs": [
    {
     "name": "stdout",
     "output_type": "stream",
     "text": [
      "/home/jovyan/JupyterLabRoot/aoa/AoaDemoModels/model_definitions/78036940-248e-4dae-b690-6f70eefcb188/DOCKER/model_modules\n"
     ]
    }
   ],
   "source": [
    "%cd \"../\""
   ]
  },
  {
   "cell_type": "code",
   "execution_count": 33,
   "metadata": {},
   "outputs": [],
   "source": [
    "# %load ../training.py\n",
    "import os\n",
    "\n",
    "from teradataml import create_context\n",
    "from teradataml.context.context import get_connection\n",
    "\n",
    "\n",
    "def train(data_conf, model_conf, **kwargs):\n",
    "    hyperparams = model_conf[\"hyperParameters\"]\n",
    "\n",
    "    create_context(host=data_conf[\"hostname\"],\n",
    "                   username=os.environ[\"TD_USERNAME\"],\n",
    "                   password=os.environ[\"TD_PASSWORD\"])\n",
    "\n",
    "    print(\"Starting training...\")\n",
    "\n",
    "    execute_sql_script(get_connection(), \"training.sql\")\n",
    "    \n",
    "    print(\"Finished training\")\n",
    "\n",
    "    # save model \n",
    "    # get_connection().execute(\"INSERT INTO {} SELECT {}, T.* FROM {} T\"\n",
    "    #                         .format(data_conf[\"model_table\"], '1', \"csi_telco_churn_model\"))\n",
    "\n",
    "    print(\"Saved trained model\")\n"
   ]
  },
  {
   "cell_type": "code",
   "execution_count": 31,
   "metadata": {},
   "outputs": [],
   "source": [
    "# %load ../util.py\n",
    "\n",
    "def execute_sql_script(conn, filename):\n",
    "    with open(filename, 'r') as f:\n",
    "        cmds = f.read().split(';')\n",
    "        \n",
    "    for cmd in cmds:\n",
    "        cmd = cmd.strip()\n",
    "        if cmd:\n",
    "            print(\"Executing cmd: {}\".format(cmd))\n",
    "            conn.execute(cmd)"
   ]
  },
  {
   "cell_type": "code",
   "execution_count": 19,
   "metadata": {},
   "outputs": [
    {
     "name": "stdin",
     "output_type": "stream",
     "text": [
      "Username:  wf250003\n",
      "Password: ········\n"
     ]
    }
   ],
   "source": [
    "import json\n",
    "import os\n",
    "import getpass\n",
    "\n",
    "model_conf = json.load(open(\"../config.json\", \"r\"))\n",
    "data_conf = {\n",
    "        \"hostname\": \"tddb-env-d-268.vantage.demo.intellicloud.teradata.com\",\n",
    "        \"data_table\": \"PIMA_TRAIN\",\n",
    "        \"model_table\": \"aoa_models\"\n",
    "    }\n",
    "\n",
    "os.environ[\"TD_USERNAME\"] = input(\"Username: \")\n",
    "os.environ[\"TD_PASSWORD\"] = getpass.getpass(\"Password:\")"
   ]
  },
  {
   "cell_type": "code",
   "execution_count": 34,
   "metadata": {},
   "outputs": [
    {
     "name": "stderr",
     "output_type": "stream",
     "text": [
      "/opt/conda/lib/python3.6/site-packages/teradataml/context/context.py:144: UserWarning: [Teradata][teradataml](TDML_2002) Overwriting an existing context associated with Teradata connection. Most of the operations on any teradataml DataFrames created before this will not work.\n",
      "  warnings.warn(Messages.get_message(MessageCodes.OVERWRITE_CONTEXT))\n"
     ]
    },
    {
     "name": "stdout",
     "output_type": "stream",
     "text": [
      "Starting training...\n",
      "Executing cmd: DROP TABLE csi_telco_churn_model\n",
      "Executing cmd: CREATE MULTISET TABLE csi_telco_churn_model \n",
      "AS (\n",
      "  SELECT * FROM NaiveBayesTextClassifierTrainer (\n",
      "    ON (\n",
      "      SELECT * FROM NaiveBayesTextClassifierInternal (\n",
      "        ON ( SELECT *\n",
      "        FROM model_dataset_train\n",
      "        ) AS \"input\" PARTITION BY category\n",
      "        USING\n",
      "        TokenColumn ('token')\n",
      "       \tModelType ('Bernoulli')\n",
      "        DocIDColumns ('customerid')\n",
      "        DocCategoryColumn ('category')\n",
      "      ) AS alias_1\n",
      "    ) PARTITION BY 1\n",
      "  ) AS alias_2 \n",
      ")\n",
      "WITH DATA\n",
      "Finished training\n",
      "Saved trained model\n"
     ]
    }
   ],
   "source": [
    "train(data_conf, model_conf)"
   ]
  },
  {
   "cell_type": "code",
   "execution_count": 36,
   "metadata": {},
   "outputs": [],
   "source": [
    "# %load scoring.py\n",
    "import os\n",
    "import json\n",
    "\n",
    "from teradataml import create_context\n",
    "from teradataml.dataframe.dataframe import DataFrame\n",
    "from teradataml.context.context import get_connection\n",
    "\n",
    "\n",
    "def evaluate(data_conf, model_conf, **kwargs):\n",
    "    create_context(host=data_conf[\"hostname\"],\n",
    "                   username=os.environ[\"TD_USERNAME\"],\n",
    "                   password=os.environ[\"TD_PASSWORD\"])\n",
    "    \n",
    "    print(\"Starting evaluation...\")\n",
    "\n",
    "    execute_sql_script(get_connection(), \"scoring.sql\")\n",
    "    \n",
    "    print(\"Finished evaluation\")\n",
    "    \n",
    "    stats = DataFrame(\"telco_stat_output\").to_pandas()\n",
    "    metrics = dict(zip(stats.key, stats.value))\n",
    "    \n",
    "    with open(\"models/evaluation.json\", \"w+\") as f:\n",
    "        json.dump(metrics, f)\n",
    "\n",
    "    "
   ]
  },
  {
   "cell_type": "code",
   "execution_count": 41,
   "metadata": {},
   "outputs": [
    {
     "name": "stderr",
     "output_type": "stream",
     "text": [
      "/opt/conda/lib/python3.6/site-packages/teradataml/context/context.py:144: UserWarning: [Teradata][teradataml](TDML_2002) Overwriting an existing context associated with Teradata connection. Most of the operations on any teradataml DataFrames created before this will not work.\n",
      "  warnings.warn(Messages.get_message(MessageCodes.OVERWRITE_CONTEXT))\n"
     ]
    },
    {
     "name": "stdout",
     "output_type": "stream",
     "text": [
      "Starting evaluation...\n",
      "Executing cmd: DROP TABLE csi_telco_churn_predict_test\n",
      "Executing cmd: DROP TABLE telco_count_output\n",
      "Executing cmd: DROP TABLE telco_stat_output\n",
      "Executing cmd: DROP TABLE telco_acc_output\n",
      "Executing cmd: CREATE TABLE csi_telco_churn_predict_test\n",
      "AS\n",
      "(SELECT *\n",
      "    FROM NaiveBayesTextClassifierPredict@coprocessor (\n",
      "    ON (SELECT *\n",
      "        FROM model_dataset_test\n",
      "    ) AS predicts \n",
      "    PARTITION BY customerid\n",
      "    ON csi_telco_churn_model AS model DIMENSION\n",
      "    USING\n",
      "    InputTokenColumn ('token')\n",
      "    ModelType ('Bernoulli')\n",
      "    DocIDColumns ('customerid')\n",
      "    TopK (1)\n",
      "  ) AS dt\n",
      ")\n",
      "WITH DATA\n",
      "Executing cmd: REPLACE VIEW csi_telco_churn_results AS \n",
      "    SELECT P.customerid, P.prediction, P.loglik, T.category actual\n",
      "        FROM csi_telco_churn_predict_test P \n",
      "        JOIN model_dataset_test T ON P.customerid = T.customerid\n",
      "Executing cmd: SELECT * FROM ConfusionMatrix (\n",
      "  ON csi_telco_churn_results\n",
      "    PARTITION BY 1\n",
      "    OUT TABLE CountTable (telco_count_output)\n",
      "    OUT TABLE StatTable (telco_stat_output)\n",
      "    OUT TABLE AccuracyTable(telco_acc_output)\n",
      "    USING\n",
      "    ObsColumn ('actual')\n",
      "    PredictColumn ('prediction')\n",
      ") AS dt\n",
      "Finished evaluation\n"
     ]
    }
   ],
   "source": [
    "data_conf = {\n",
    "        \"hostname\": \"tddb-env-d-268.vantage.demo.intellicloud.teradata.com\",\n",
    "        \"data_table\": \"PIMA_TEST\",\n",
    "        \"model_table\": \"aoa_models\"\n",
    "    }\n",
    "evaluate(data_conf, model_conf)"
   ]
  },
  {
   "cell_type": "code",
   "execution_count": 42,
   "metadata": {},
   "outputs": [
    {
     "name": "stdout",
     "output_type": "stream",
     "text": [
      "{'Mcnemar Test P-Value': '0', 'Null Error Rate': '0.0003', 'Kappa': '0.9964', 'Accuracy': '0.9999', 'P-Value [Acc > NIR]': '0', '95% CI': '(0.9999, 0.9999)'}\n"
     ]
    }
   ],
   "source": [
    "with open(\"models/evaluation.json\") as f:\n",
    "    print(json.loads(f.read()))"
   ]
  },
  {
   "cell_type": "code",
   "execution_count": null,
   "metadata": {},
   "outputs": [],
   "source": []
  }
 ],
 "metadata": {
  "kernelspec": {
   "display_name": "Python 3",
   "language": "python",
   "name": "python3"
  },
  "language_info": {
   "codemirror_mode": {
    "name": "ipython",
    "version": 3
   },
   "file_extension": ".py",
   "mimetype": "text/x-python",
   "name": "python",
   "nbconvert_exporter": "python",
   "pygments_lexer": "ipython3",
   "version": "3.6.8"
  }
 },
 "nbformat": 4,
 "nbformat_minor": 2
}
