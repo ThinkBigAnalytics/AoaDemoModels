{
 "cells": [
  {
   "cell_type": "markdown",
   "metadata": {},
   "source": [
    "<img src=\"https://www.teradata.com/Teradata/Images/Rebrand/Teradata_logo-two_color.png\" alt=\"Teradata\" width=\"400\" align=\"right\"/>\n",
    "\n",
    "<br/>\n",
    "\n",
    "# TELCO CHURN DEMO\n",
    "# **PART 1: DATA ANALYSIS**"
   ]
  },
  {
   "cell_type": "markdown",
   "metadata": {},
   "source": [
    "# 1. Data Upload\n",
    "#### After using the DDL statements to load data in the Vantage Database, the next step is to create a connection to Vantage and begin examining the data."
   ]
  },
  {
   "cell_type": "markdown",
   "metadata": {},
   "source": [
    "# 2. Establish Vantage Connection"
   ]
  },
  {
   "cell_type": "code",
   "execution_count": 2,
   "metadata": {},
   "outputs": [
    {
     "name": "stdout",
     "output_type": "stream",
     "text": [
      "Disconnected: NAME=demo, USER=vantage, HOST=tddb-env-d-268.vantage.demo.intellicloud.teradata.com\n"
     ]
    }
   ],
   "source": [
    "%lsconnect"
   ]
  },
  {
   "cell_type": "code",
   "execution_count": 3,
   "metadata": {},
   "outputs": [
    {
     "ename": "ERROR",
     "evalue": "Connection with the name 'demo' already exists",
     "output_type": "error",
     "traceback": [
      "Connection with the name 'demo' already exists"
     ]
    }
   ],
   "source": [
    "%addconnect NAME=demo, USER=vantage, HOST=tddb-env-d-268.vantage.demo.intellicloud.teradata.com"
   ]
  },
  {
   "cell_type": "code",
   "execution_count": 4,
   "metadata": {},
   "outputs": [
    {
     "name": "stdin",
     "output_type": "stream",
     "text": [
      "Password ·········\n"
     ]
    },
    {
     "name": "stdout",
     "output_type": "stream",
     "text": [
      "Success: 'demo' connection established\n"
     ]
    }
   ],
   "source": [
    "%connect demo"
   ]
  },
  {
   "cell_type": "markdown",
   "metadata": {},
   "source": [
    "# 3. Data Discovery and Path Analysis (Vantage + Tableau)\n",
    "#### 3a. Establish PATH table defining CHURN customers"
   ]
  },
  {
   "cell_type": "code",
   "execution_count": 6,
   "metadata": {},
   "outputs": [
    {
     "data": {
      "text/plain": [
       "Success: 17 rows affected"
      ]
     },
     "execution_count": 6,
     "metadata": {
      "application/vnd.teradata.resultset": ""
     },
     "output_type": "execute_result"
    }
   ],
   "source": [
    "DROP TABLE TelcoChurn.csi_telco_all_churn_paths;"
   ]
  },
  {
   "cell_type": "code",
   "execution_count": 7,
   "metadata": {},
   "outputs": [
    {
     "data": {
      "text/plain": [
       "Success: 0 rows affected"
      ]
     },
     "execution_count": 7,
     "metadata": {
      "application/vnd.teradata.resultset": ""
     },
     "output_type": "execute_result"
    }
   ],
   "source": [
    "CREATE TABLE TelcoChurn.csi_telco_all_churn_paths\n",
    "AS (SELECT *\n",
    "    FROM NPATH\n",
    "  (ON TelcoChurn.csi_telco_data\n",
    "    PARTITION BY customerid\n",
    "    ORDER BY tstamp\n",
    "    USING\n",
    "    MODE(NONOVERLAPPING)\n",
    "    PATTERN('E*.C')\n",
    "    SYMBOLS\n",
    "    (event = 'CLOSED' AS C\n",
    "    ,event <> 'CLOSED' AS E\n",
    "    )\n",
    "    RESULT\n",
    "    (FIRST(customerid OF ANY(E,C)) AS CUSTOMERID\n",
    "      ,COUNT(* OF E) AS EVENT_CNT\n",
    "      ,ACCUMULATE(event OF ANY(E,C)) AS PATH\n",
    "    )\n",
    "  )\n",
    ")\n",
    "WITH DATA;"
   ]
  },
  {
   "cell_type": "code",
   "execution_count": 8,
   "metadata": {},
   "outputs": [
    {
     "data": {
      "application/vnd.teradata.resultset": "[{\"customerid\":\"350451\",\"event_cnt\":\"15\",\"path\":\"[ACTIVATION, RATE PLAN CHANGE, DROPPED CALLS, CUSTOMER CARE, DROPPED CALLS, CUSTOMER CARE, DROPPED CALLS, CUSTOMER CARE, DROPPED CALLS, SUPPORT UNRESOLVED, DROPPED CALLS, SUPPORT UNRESOLVED, CUSTOMER CARE, CALL COMPETITION, CALL COMPETITION, CLOSED]\"},{\"customerid\":\"351200\",\"event_cnt\":\"15\",\"path\":\"[ACTIVATION, DROPPED CALLS, CUSTOMER CARE, SUPPORT ESCALATION, SUPPORT RESOLUTION, CUSTOMER CARE, SUPPORT RESOLUTION, CUSTOMER CARE, DROPPED CALLS, SUPPORT ESCALATION, SUPPORT ESCALATION, SUPPORT ESCALATION, DROPPED CALLS, SUPPORT UNRESOLVED, CALL COMPETITION, CLOSED]\"},{\"customerid\":\"354516\",\"event_cnt\":\"11\",\"path\":\"[ACTIVATION, DROPPED CALLS, CUSTOMER CARE, SUPPORT ESCALATION, SUPPORT UNRESOLVED, DROPPED CALLS, DROPPED CALLS, SUPPORT ESCALATION, DROPPED CALLS, SUPPORT UNRESOLVED, CALL COMPETITION, CLOSED]\"},{\"customerid\":\"350715\",\"event_cnt\":\"11\",\"path\":\"[ACTIVATION, DROPPED CALLS, CUSTOMER CARE, SUPPORT ESCALATION, SUPPORT UNRESOLVED, RATE PLAN CHANGE, DROPPED CALLS, DROPPED CALLS, CUSTOMER CARE, SUPPORT ESCALATION, SUPPORT UNRESOLVED, CLOSED]\"},{\"customerid\":\"351045\",\"event_cnt\":\"10\",\"path\":\"[ACTIVATION, DROPPED CALLS, CUSTOMER CARE, DROPPED CALLS, RATE PLAN CHANGE, SUPPORT ESCALATION, CUSTOMER CARE, SUPPORT UNRESOLVED, CUSTOMER CARE, CALL COMPETITION, CLOSED]\"},{\"customerid\":\"350478\",\"event_cnt\":\"10\",\"path\":\"[ACTIVATION, DROPPED CALLS, CUSTOMER CARE, DROPPED CALLS, CUSTOMER CARE, SUPPORT ESCALATION, CUSTOMER CARE, CALL COMPETITION, CALL COMPETITION, CALL COMPETITION, CLOSED]\"},{\"customerid\":\"351440\",\"event_cnt\":\"10\",\"path\":\"[ACTIVATION, CUSTOMER CARE, SUPPORT UNRESOLVED, CUSTOMER CARE, RATE PLAN CHANGE, CUSTOMER CARE, SUPPORT UNRESOLVED, CALL COMPETITION, SUPPORT ESCALATION, CALL COMPETITION, CLOSED]\"},{\"customerid\":\"351062\",\"event_cnt\":\"10\",\"path\":\"[ACTIVATION, DROPPED CALLS, DROPPED CALLS, CUSTOMER CARE, SUPPORT ESCALATION, SUPPORT RESOLUTION, DROPPED CALLS, CUSTOMER CARE, SUPPORT ESCALATION, SUPPORT UNRESOLVED, CLOSED]\"},{\"customerid\":\"351542\",\"event_cnt\":\"10\",\"path\":\"[ACTIVATION, DROPPED CALLS, CUSTOMER CARE, DROPPED CALLS, SUPPORT ESCALATION, CALL COMPETITION, DROPPED CALLS, CUSTOMER CARE, SUPPORT UNRESOLVED, CALL COMPETITION, CLOSED]\"},{\"customerid\":\"350149\",\"event_cnt\":\"9\",\"path\":\"[ACTIVATION, DROPPED CALLS, CUSTOMER CARE, SUPPORT ESCALATION, CUSTOMER CARE, SUPPORT ESCALATION, CUSTOMER CARE, SUPPORT UNRESOLVED, CALL COMPETITION, CLOSED]\"}]\n",
      "text/html": [
       "<div class = \"td-resultset-table-div\" style = \"max-height: 257px; overflow-y: auto\"><style> table {border: 1px solid rgb(207, 207, 207) !important; border-collapse: collapse !important; margin-top: 1px !important;} th {border: 1px solid rgb(198,198,198) !important; border-collapse: collapse !important; padding: 2px 5px !important; font-size: 13px !important; min-width:150px !important; max-width: 150px !important; white-space: nowrap !important; overflow:hidden !important; text-overflow:ellipsis !important;} tr:nth-child(even) {background: rgba(243, 243, 243, 0.75) !important;} td {border: 1px solid rgb(207, 207, 207) !important; border-collapse: collapse !important; padding: 2px 5px !important; font-size: 13px !important; min-width:150px !important; max-width: 150px !important; white-space: nowrap !important; overflow:hidden !important; text-overflow:ellipsis !important;}</style><table><thead><tr style= \"background: #efefef;\"><th>customerid</th><th>event_cnt</th><th>path</th></tr></thead><tr><td>350451</td><td>15</td><td>[ACTIVATION, RATE PLAN CHANGE, DROPPED CALLS, CUSTOMER CARE, DROPPED CALLS, CUSTOMER CARE, DROPPED CALLS, CUSTOMER CARE, DROPPED CALLS, SUPPORT UNRESOLVED,</td></tr><tr><td>351200</td><td>15</td><td>[ACTIVATION, DROPPED CALLS, CUSTOMER CARE, SUPPORT ESCALATION, SUPPORT RESOLUTION, CUSTOMER CARE, SUPPORT RESOLUTION, CUSTOMER CARE, DROPPED CALLS, SUPPORT</td></tr><tr><td>354516</td><td>11</td><td>[ACTIVATION, DROPPED CALLS, CUSTOMER CARE, SUPPORT ESCALATION, SUPPORT UNRESOLVED, DROPPED CALLS, DROPPED CALLS, SUPPORT ESCALATION, DROPPED CALLS, SUPPORT</td></tr><tr><td>350715</td><td>11</td><td>[ACTIVATION, DROPPED CALLS, CUSTOMER CARE, SUPPORT ESCALATION, SUPPORT UNRESOLVED, RATE PLAN CHANGE, DROPPED CALLS, DROPPED CALLS, CUSTOMER CARE, SUPPORT E</td></tr><tr><td>351045</td><td>10</td><td>[ACTIVATION, DROPPED CALLS, CUSTOMER CARE, DROPPED CALLS, RATE PLAN CHANGE, SUPPORT ESCALATION, CUSTOMER CARE, SUPPORT UNRESOLVED, CUSTOMER CARE, CALL COMP</td></tr><tr><td>350478</td><td>10</td><td>[ACTIVATION, DROPPED CALLS, CUSTOMER CARE, DROPPED CALLS, CUSTOMER CARE, SUPPORT ESCALATION, CUSTOMER CARE, CALL COMPETITION, CALL COMPETITION, CALL COMPET</td></tr><tr><td>351440</td><td>10</td><td>[ACTIVATION, CUSTOMER CARE, SUPPORT UNRESOLVED, CUSTOMER CARE, RATE PLAN CHANGE, CUSTOMER CARE, SUPPORT UNRESOLVED, CALL COMPETITION, SUPPORT ESCALATION, C</td></tr><tr><td>351062</td><td>10</td><td>[ACTIVATION, DROPPED CALLS, DROPPED CALLS, CUSTOMER CARE, SUPPORT ESCALATION, SUPPORT RESOLUTION, DROPPED CALLS, CUSTOMER CARE, SUPPORT ESCALATION, SUPPORT</td></tr><tr><td>351542</td><td>10</td><td>[ACTIVATION, DROPPED CALLS, CUSTOMER CARE, DROPPED CALLS, SUPPORT ESCALATION, CALL COMPETITION, DROPPED CALLS, CUSTOMER CARE, SUPPORT UNRESOLVED, CALL COMP</td></tr><tr><td>350149</td><td>9</td><td>[ACTIVATION, DROPPED CALLS, CUSTOMER CARE, SUPPORT ESCALATION, CUSTOMER CARE, SUPPORT ESCALATION, CUSTOMER CARE, SUPPORT UNRESOLVED, CALL COMPETITION, CLOS</td></tr></table></div>"
      ]
     },
     "execution_count": 8,
     "metadata": {
      "application/vnd.teradata.resultset": "{\"resultSetID\":\"/Users/ck186030/Desktop/Analytics_Practice_2019/Summit/Use_case_walkthrough/files_walk_through_summit/Teradata/Resultsets/2019.06.30_15.23.05.806_CEST\",\"historyID\":303,\"chunkID\":\"00001\",\"sessionid\":\"\",\"portnum\":\"\",\"dockermode\":\"standalone\",\"totalRowCount\":10,\"rowLimit\":0,\"columnMetadata\":[{\"columnName\":\"customerid\",\"columnTypeName\":\"INTEGER\"},{\"columnNumber\":1,\"columnName\":\"event_cnt\",\"columnTypeName\":\"INTEGER\"},{\"columnNumber\":2,\"columnName\":\"path\",\"columnTypeName\":\"LONG VARCHAR\",\"length\":64000,\"scale\":64000}]}"
     },
     "output_type": "execute_result"
    }
   ],
   "source": [
    "SELECT\n",
    "top 10 *\n",
    "FROM TelcoChurn.csi_telco_all_churn_paths\n",
    "ORDER BY event_cnt DESC;"
   ]
  },
  {
   "cell_type": "markdown",
   "metadata": {},
   "source": [
    "#### 3b. Use the results of a custom CHURN paths query and the Teradata **Sankey Extension in Tableau**"
   ]
  },
  {
   "cell_type": "raw",
   "metadata": {},
   "source": [
    "SELECT\n",
    "TOP 100 CAST(path AS VARCHAR(1000))AS path\n",
    ", COUNT(*) AS cnt\n",
    "FROM NPATH\n",
    "(ON  TelcoChurn.csi_telco_data \n",
    "    PARTITION BY customerid \n",
    "    ORDER BY tstamp\n",
    "    USING\n",
    "    MODE(NONOVERLAPPING)\n",
    "    PATTERN('E{0,5}.C')\n",
    "    SYMBOLS\n",
    "    (EVENT = 'CLOSED'  AS C \n",
    "     ,EVENT <> 'CLOSED' AS E\n",
    "  )\n",
    "    RESULT\n",
    "    (FIRST(CUSTOMERID OF ANY(E,C)) AS CUSTOMER_ID\n",
    "       ,COUNT(* OF E) AS EVENT_CNT\n",
    "      ,ACCUMULATE(EVENT OF ANY(E,C)) AS PATH\n",
    "    )\n",
    ") \n",
    "GROUP BY PATH\n",
    "ORDER BY cnt DESC"
   ]
  },
  {
   "cell_type": "markdown",
   "metadata": {},
   "source": [
    "#### 3c. Establish PATH table defining NON-CHURN customers "
   ]
  },
  {
   "cell_type": "code",
   "execution_count": 9,
   "metadata": {},
   "outputs": [
    {
     "data": {
      "text/plain": [
       "Success: 22 rows affected"
      ]
     },
     "execution_count": 9,
     "metadata": {
      "application/vnd.teradata.resultset": ""
     },
     "output_type": "execute_result"
    }
   ],
   "source": [
    "DROP TABLE csi_telco_data_non_churners;"
   ]
  },
  {
   "cell_type": "code",
   "execution_count": 10,
   "metadata": {},
   "outputs": [
    {
     "data": {
      "text/plain": [
       "Success: 0 rows affected"
      ]
     },
     "execution_count": 10,
     "metadata": {
      "application/vnd.teradata.resultset": ""
     },
     "output_type": "execute_result"
    }
   ],
   "source": [
    "CREATE TABLE csi_telco_data_non_churners\n",
    "AS\n",
    "(SELECT *\n",
    "  FROM TelcoChurn.csi_telco_data\n",
    "  WHERE customerid NOT IN (\n",
    "      SELECT\n",
    "      DISTINCT customerid \n",
    "      FROM TelcoChurn.csi_telco_all_churn_paths)\n",
    "  AND tstamp < (SELECT\n",
    "                  max(tstamp)\n",
    "                  FROM TelcoChurn.csi_telco_data\n",
    "                  WHERE event ='CLOSED')\n",
    ")\n",
    "WITH DATA;"
   ]
  },
  {
   "cell_type": "code",
   "execution_count": 11,
   "metadata": {},
   "outputs": [
    {
     "data": {
      "text/plain": [
       "Success: 17 rows affected"
      ]
     },
     "execution_count": 11,
     "metadata": {
      "application/vnd.teradata.resultset": ""
     },
     "output_type": "execute_result"
    }
   ],
   "source": [
    "DROP TABLE TelcoChurn.csi_telco_all_nonchurn_paths;"
   ]
  },
  {
   "cell_type": "code",
   "execution_count": 12,
   "metadata": {},
   "outputs": [
    {
     "data": {
      "text/plain": [
       "Success: 0 rows affected"
      ]
     },
     "execution_count": 12,
     "metadata": {
      "application/vnd.teradata.resultset": ""
     },
     "output_type": "execute_result"
    }
   ],
   "source": [
    "CREATE TABLE TelcoChurn.csi_telco_all_nonchurn_paths\n",
    "AS\n",
    "(SELECT *\n",
    "    FROM NPATH\n",
    "  (ON  \n",
    "    csi_telco_data_non_churners\n",
    "    PARTITION BY customerid \n",
    "    ORDER BY tstamp\n",
    "    USING\n",
    "    MODE(NONOVERLAPPING)\n",
    "    PATTERN('E*')\n",
    "    SYMBOLS\n",
    "    (event <> 'CHURN' AS E)\n",
    "    RESULT\n",
    "    (FIRST(customerid OF ANY(E)) AS CUSTOMERID\n",
    "      ,COUNT(* OF E) AS EVENT_CNT\n",
    "      ,ACCUMULATE(event OF ANY(E)) AS PATH\n",
    "    )\n",
    "  ) \n",
    ")WITH DATA ;"
   ]
  },
  {
   "cell_type": "code",
   "execution_count": 13,
   "metadata": {},
   "outputs": [
    {
     "data": {
      "application/vnd.teradata.resultset": "[{\"customerid\":\"637358\",\"event_cnt\":\"28\",\"path\":\"[ACTIVATION, RATE PLAN CHANGE, SUPPORT RESOLUTION, BILL OVERAGES, BILL OVERAGES, SUPPORT RESOLUTION, RATE PLAN CHANGE, SUPPORT RESOLUTION, RETAIL VISIT, BILL OVERAGES, CUSTOMER CARE, RATE PLAN CHANGE, RETAIL VISIT, RATE PLAN CHANGE, RETAIL VISIT, RETAIL VISIT, CUSTOMER CARE, RATE PLAN CHANGE, CUSTOMER CARE, SUPPORT RESOLUTION, RETAIL VISIT, CUSTOMER CARE, SUPPORT RESOLUTION, BILL OVERAGES, SUPPORT RESOLUTION, CUSTOMER CARE, BILL OVERAGES, CUSTOMER CARE]\"},{\"customerid\":\"403431\",\"event_cnt\":\"27\",\"path\":\"[ACTIVATION, RATE PLAN CHANGE, CUSTOMER CARE, RATE PLAN CHANGE, BILL OVERAGES, CUSTOMER CARE, BILL OVERAGES, RETAIL VISIT, SUPPORT RESOLUTION, BILL OVERAGES, BILL OVERAGES, RETAIL VISIT, BILL OVERAGES, CUSTOMER CARE, SUPPORT RESOLUTION, RATE PLAN CHANGE, SUPPORT RESOLUTION, CUSTOMER CARE, SUPPORT RESOLUTION, CUSTOMER CARE, SUPPORT RESOLUTION, CUSTOMER CARE, RATE PLAN CHANGE, CUSTOMER CARE, BILL OVERAGES, CUSTOMER CARE, SUPPORT RESOLUTION]\"},{\"customerid\":\"469205\",\"event_cnt\":\"27\",\"path\":\"[ACTIVATION, RATE PLAN CHANGE, BILL OVERAGES, CUSTOMER CARE, RETAIL VISIT, CUSTOMER CARE, SUPPORT RESOLUTION, BILL OVERAGES, BILL OVERAGES, CUSTOMER CARE, SUPPORT RESOLUTION, RATE PLAN CHANGE, SUPPORT RESOLUTION, CUSTOMER CARE, RETAIL VISIT, SUPPORT RESOLUTION, BILL OVERAGES, BILL OVERAGES, RATE PLAN CHANGE, RATE PLAN CHANGE, SUPPORT RESOLUTION, RATE PLAN CHANGE, RATE PLAN CHANGE, BILL OVERAGES, BILL OVERAGES, CUSTOMER CARE, SUPPORT RESOLUTION]\"},{\"customerid\":\"538696\",\"event_cnt\":\"26\",\"path\":\"[ACTIVATION, SUPPORT RESOLUTION, CUSTOMER CARE, CUSTOMER CARE, RATE PLAN CHANGE, SUPPORT RESOLUTION, RATE PLAN CHANGE, RETAIL VISIT, CUSTOMER CARE, RETAIL VISIT, BILL OVERAGES, RETAIL VISIT, RATE PLAN CHANGE, BILL OVERAGES, CUSTOMER CARE, CUSTOMER CARE, CUSTOMER CARE, RETAIL VISIT, RETAIL VISIT, CUSTOMER CARE, BILL OVERAGES, SUPPORT RESOLUTION, BILL OVERAGES, SUPPORT RESOLUTION, RETAIL VISIT, RETAIL VISIT]\"},{\"customerid\":\"537296\",\"event_cnt\":\"26\",\"path\":\"[ACTIVATION, SUPPORT RESOLUTION, SUPPORT RESOLUTION, RATE PLAN CHANGE, BILL OVERAGES, SUPPORT RESOLUTION, CUSTOMER CARE, BILL OVERAGES, SUPPORT RESOLUTION, CUSTOMER CARE, SUPPORT RESOLUTION, BILL OVERAGES, RATE PLAN CHANGE, CUSTOMER CARE, BILL OVERAGES, SUPPORT RESOLUTION, CUSTOMER CARE, SUPPORT RESOLUTION, RETAIL VISIT, SUPPORT RESOLUTION, RATE PLAN CHANGE, RATE PLAN CHANGE, SUPPORT RESOLUTION, CUSTOMER CARE, SUPPORT RESOLUTION, SUPPORT RESOLUTION]\"},{\"customerid\":\"438384\",\"event_cnt\":\"26\",\"path\":\"[ACTIVATION, CUSTOMER CARE, BILL OVERAGES, RETAIL VISIT, RETAIL VISIT, RETAIL VISIT, CUSTOMER CARE, SUPPORT RESOLUTION, SUPPORT RESOLUTION, RATE PLAN CHANGE, RATE PLAN CHANGE, RETAIL VISIT, RATE PLAN CHANGE, RATE PLAN CHANGE, RATE PLAN CHANGE, BILL OVERAGES, RETAIL VISIT, BILL OVERAGES, CUSTOMER CARE, CUSTOMER CARE, SUPPORT RESOLUTION, BILL OVERAGES, SUPPORT RESOLUTION, CUSTOMER CARE, CUSTOMER CARE, RETAIL VISIT]\"},{\"customerid\":\"380332\",\"event_cnt\":\"26\",\"path\":\"[ACTIVATION, SUPPORT RESOLUTION, CUSTOMER CARE, CUSTOMER CARE, CUSTOMER CARE, RETAIL VISIT, CUSTOMER CARE, RETAIL VISIT, SUPPORT RESOLUTION, RETAIL VISIT, BILL OVERAGES, CUSTOMER CARE, RETAIL VISIT, SUPPORT RESOLUTION, RETAIL VISIT, SUPPORT RESOLUTION, RATE PLAN CHANGE, BILL OVERAGES, BILL OVERAGES, RETAIL VISIT, RATE PLAN CHANGE, CUSTOMER CARE, SUPPORT RESOLUTION, RATE PLAN CHANGE, CUSTOMER CARE, RETAIL VISIT]\"},{\"customerid\":\"350774\",\"event_cnt\":\"26\",\"path\":\"[ACTIVATION, SUPPORT RESOLUTION, CUSTOMER CARE, CUSTOMER CARE, RATE PLAN CHANGE, SUPPORT RESOLUTION, SUPPORT RESOLUTION, CUSTOMER CARE, RATE PLAN CHANGE, SUPPORT RESOLUTION, RATE PLAN CHANGE, BILL OVERAGES, SUPPORT RESOLUTION, BILL OVERAGES, BILL OVERAGES, CUSTOMER CARE, RATE PLAN CHANGE, CUSTOMER CARE, BILL OVERAGES, BILL OVERAGES, SUPPORT RESOLUTION, SUPPORT RESOLUTION, SUPPORT RESOLUTION, RATE PLAN CHANGE, CUSTOMER CARE, CUSTOMER CARE]\"},{\"customerid\":\"599175\",\"event_cnt\":\"26\",\"path\":\"[ACTIVATION, BILL OVERAGES, BILL OVERAGES, RATE PLAN CHANGE, BILL OVERAGES, SUPPORT RESOLUTION, RETAIL VISIT, BILL OVERAGES, CUSTOMER CARE, CUSTOMER CARE, RATE PLAN CHANGE, RATE PLAN CHANGE, CUSTOMER CARE, CUSTOMER CARE, RATE PLAN CHANGE, CUSTOMER CARE, SUPPORT RESOLUTION, RATE PLAN CHANGE, CUSTOMER CARE, BILL OVERAGES, CUSTOMER CARE, RETAIL VISIT, RETAIL VISIT, RATE PLAN CHANGE, SUPPORT RESOLUTION, CUSTOMER CARE]\"},{\"customerid\":\"437930\",\"event_cnt\":\"26\",\"path\":\"[ACTIVATION, CUSTOMER CARE, CUSTOMER CARE, RETAIL VISIT, RATE PLAN CHANGE, RATE PLAN CHANGE, CUSTOMER CARE, RATE PLAN CHANGE, CUSTOMER CARE, RATE PLAN CHANGE, CUSTOMER CARE, SUPPORT RESOLUTION, RATE PLAN CHANGE, SUPPORT RESOLUTION, SUPPORT RESOLUTION, RATE PLAN CHANGE, CUSTOMER CARE, BILL OVERAGES, RATE PLAN CHANGE, CUSTOMER CARE, RATE PLAN CHANGE, RETAIL VISIT, CUSTOMER CARE, BILL OVERAGES, SUPPORT RESOLUTION, CUSTOMER CARE]\"}]\n",
      "text/html": [
       "<div class = \"td-resultset-table-div\" style = \"max-height: 257px; overflow-y: auto\"><style> table {border: 1px solid rgb(207, 207, 207) !important; border-collapse: collapse !important; margin-top: 1px !important;} th {border: 1px solid rgb(198,198,198) !important; border-collapse: collapse !important; padding: 2px 5px !important; font-size: 13px !important; min-width:150px !important; max-width: 150px !important; white-space: nowrap !important; overflow:hidden !important; text-overflow:ellipsis !important;} tr:nth-child(even) {background: rgba(243, 243, 243, 0.75) !important;} td {border: 1px solid rgb(207, 207, 207) !important; border-collapse: collapse !important; padding: 2px 5px !important; font-size: 13px !important; min-width:150px !important; max-width: 150px !important; white-space: nowrap !important; overflow:hidden !important; text-overflow:ellipsis !important;}</style><table><thead><tr style= \"background: #efefef;\"><th>customerid</th><th>event_cnt</th><th>path</th></tr></thead><tr><td>637358</td><td>28</td><td>[ACTIVATION, RATE PLAN CHANGE, SUPPORT RESOLUTION, BILL OVERAGES, BILL OVERAGES, SUPPORT RESOLUTION, RATE PLAN CHANGE, SUPPORT RESOLUTION, RETAIL VISIT, BI</td></tr><tr><td>403431</td><td>27</td><td>[ACTIVATION, RATE PLAN CHANGE, CUSTOMER CARE, RATE PLAN CHANGE, BILL OVERAGES, CUSTOMER CARE, BILL OVERAGES, RETAIL VISIT, SUPPORT RESOLUTION, BILL OVERAGE</td></tr><tr><td>469205</td><td>27</td><td>[ACTIVATION, RATE PLAN CHANGE, BILL OVERAGES, CUSTOMER CARE, RETAIL VISIT, CUSTOMER CARE, SUPPORT RESOLUTION, BILL OVERAGES, BILL OVERAGES, CUSTOMER CARE, </td></tr><tr><td>538696</td><td>26</td><td>[ACTIVATION, SUPPORT RESOLUTION, CUSTOMER CARE, CUSTOMER CARE, RATE PLAN CHANGE, SUPPORT RESOLUTION, RATE PLAN CHANGE, RETAIL VISIT, CUSTOMER CARE, RETAIL </td></tr><tr><td>537296</td><td>26</td><td>[ACTIVATION, SUPPORT RESOLUTION, SUPPORT RESOLUTION, RATE PLAN CHANGE, BILL OVERAGES, SUPPORT RESOLUTION, CUSTOMER CARE, BILL OVERAGES, SUPPORT RESOLUTION,</td></tr><tr><td>438384</td><td>26</td><td>[ACTIVATION, CUSTOMER CARE, BILL OVERAGES, RETAIL VISIT, RETAIL VISIT, RETAIL VISIT, CUSTOMER CARE, SUPPORT RESOLUTION, SUPPORT RESOLUTION, RATE PLAN CHANG</td></tr><tr><td>380332</td><td>26</td><td>[ACTIVATION, SUPPORT RESOLUTION, CUSTOMER CARE, CUSTOMER CARE, CUSTOMER CARE, RETAIL VISIT, CUSTOMER CARE, RETAIL VISIT, SUPPORT RESOLUTION, RETAIL VISIT, </td></tr><tr><td>350774</td><td>26</td><td>[ACTIVATION, SUPPORT RESOLUTION, CUSTOMER CARE, CUSTOMER CARE, RATE PLAN CHANGE, SUPPORT RESOLUTION, SUPPORT RESOLUTION, CUSTOMER CARE, RATE PLAN CHANGE, S</td></tr><tr><td>599175</td><td>26</td><td>[ACTIVATION, BILL OVERAGES, BILL OVERAGES, RATE PLAN CHANGE, BILL OVERAGES, SUPPORT RESOLUTION, RETAIL VISIT, BILL OVERAGES, CUSTOMER CARE, CUSTOMER CARE, </td></tr><tr><td>437930</td><td>26</td><td>[ACTIVATION, CUSTOMER CARE, CUSTOMER CARE, RETAIL VISIT, RATE PLAN CHANGE, RATE PLAN CHANGE, CUSTOMER CARE, RATE PLAN CHANGE, CUSTOMER CARE, RATE PLAN CHAN</td></tr></table></div>"
      ]
     },
     "execution_count": 13,
     "metadata": {
      "application/vnd.teradata.resultset": "{\"resultSetID\":\"/Users/ck186030/Desktop/Analytics_Practice_2019/Summit/Use_case_walkthrough/files_walk_through_summit/Teradata/Resultsets/2019.06.30_15.23.26.446_CEST\",\"historyID\":308,\"chunkID\":\"00001\",\"sessionid\":\"\",\"portnum\":\"\",\"dockermode\":\"standalone\",\"totalRowCount\":10,\"rowLimit\":0,\"columnMetadata\":[{\"columnName\":\"customerid\",\"columnTypeName\":\"INTEGER\"},{\"columnNumber\":1,\"columnName\":\"event_cnt\",\"columnTypeName\":\"INTEGER\"},{\"columnNumber\":2,\"columnName\":\"path\",\"columnTypeName\":\"LONG VARCHAR\",\"length\":64000,\"scale\":64000}]}"
     },
     "output_type": "execute_result"
    }
   ],
   "source": [
    "SELECT\n",
    "TOP 10 *\n",
    "FROM TelcoChurn.csi_telco_all_nonchurn_paths\n",
    "ORDER BY event_cnt DESC;"
   ]
  },
  {
   "cell_type": "markdown",
   "metadata": {},
   "source": [
    "# 4. Data Discovery Text (Vantage)\n",
    "#### a. Use the Ngrams function to tokenize the text of CHURN and NON-CHURN"
   ]
  },
  {
   "cell_type": "code",
   "execution_count": 14,
   "metadata": {},
   "outputs": [
    {
     "data": {
      "text/plain": [
       "Success: 18 rows affected"
      ]
     },
     "execution_count": 14,
     "metadata": {
      "application/vnd.teradata.resultset": ""
     },
     "output_type": "execute_result"
    }
   ],
   "source": [
    "DROP TABLE TelcoChurn.csi_telco_all_churn_paths_token;"
   ]
  },
  {
   "cell_type": "code",
   "execution_count": 15,
   "metadata": {},
   "outputs": [
    {
     "data": {
      "text/plain": [
       "Success: 0 rows affected"
      ]
     },
     "execution_count": 15,
     "metadata": {
      "application/vnd.teradata.resultset": ""
     },
     "output_type": "execute_result"
    }
   ],
   "source": [
    "CREATE MULTISET TABLE TelcoChurn.csi_telco_all_churn_paths_token\n",
    "AS (\n",
    "  SELECT *\n",
    "    FROM NGrams (\n",
    "    ON  TelcoChurn.csi_telco_all_churn_paths\n",
    "    USING\n",
    "    TextColumn ('path')\n",
    "    Delimiter (',')\n",
    "    Grams ('1')\n",
    "    Overlapping ('false')\n",
    "    ToLowerCase ('true')\n",
    "    Punctuation ('\\[.,?\\!\\]')\n",
    "    Reset ('\\[.,?\\!\\]')\n",
    "    TotalGramCount ('false')\n",
    "    Accumulate ('customerid')\n",
    "  ) AS dt\n",
    ")\n",
    "WITH DATA;"
   ]
  },
  {
   "cell_type": "code",
   "execution_count": 16,
   "metadata": {},
   "outputs": [
    {
     "data": {
      "application/vnd.teradata.resultset": "[{\"customerid\":\"350451\",\"frequency\":\"5\",\"n\":\"1\",\"ngram\":\"dropped calls\"},{\"customerid\":\"354516\",\"frequency\":\"4\",\"n\":\"1\",\"ngram\":\"dropped calls\"},{\"customerid\":\"350451\",\"frequency\":\"4\",\"n\":\"1\",\"ngram\":\"customer care\"},{\"customerid\":\"351200\",\"frequency\":\"4\",\"n\":\"1\",\"ngram\":\"support escalation\"},{\"customerid\":\"351137\",\"frequency\":\"3\",\"n\":\"1\",\"ngram\":\"customer care\"},{\"customerid\":\"351062\",\"frequency\":\"3\",\"n\":\"1\",\"ngram\":\"dropped calls\"},{\"customerid\":\"351200\",\"frequency\":\"3\",\"n\":\"1\",\"ngram\":\"dropped calls\"},{\"customerid\":\"350478\",\"frequency\":\"3\",\"n\":\"1\",\"ngram\":\"customer care\"},{\"customerid\":\"352348\",\"frequency\":\"3\",\"n\":\"1\",\"ngram\":\"dropped calls\"},{\"customerid\":\"350478\",\"frequency\":\"3\",\"n\":\"1\",\"ngram\":\"call competition\"}]\n",
      "text/html": [
       "<div class = \"td-resultset-table-div\" style = \"max-height: 257px; overflow-y: auto\"><style> table {border: 1px solid rgb(207, 207, 207) !important; border-collapse: collapse !important; margin-top: 1px !important;} th {border: 1px solid rgb(198,198,198) !important; border-collapse: collapse !important; padding: 2px 5px !important; font-size: 13px !important; min-width:150px !important; max-width: 150px !important; white-space: nowrap !important; overflow:hidden !important; text-overflow:ellipsis !important;} tr:nth-child(even) {background: rgba(243, 243, 243, 0.75) !important;} td {border: 1px solid rgb(207, 207, 207) !important; border-collapse: collapse !important; padding: 2px 5px !important; font-size: 13px !important; min-width:150px !important; max-width: 150px !important; white-space: nowrap !important; overflow:hidden !important; text-overflow:ellipsis !important;}</style><table><thead><tr style= \"background: #efefef;\"><th>customerid</th><th>ngram</th><th>n</th><th>frequency</th></tr></thead><tr><td>350451</td><td>dropped calls</td><td>1</td><td>5</td></tr><tr><td>354516</td><td>dropped calls</td><td>1</td><td>4</td></tr><tr><td>350451</td><td>customer care</td><td>1</td><td>4</td></tr><tr><td>351200</td><td>support escalation</td><td>1</td><td>4</td></tr><tr><td>351137</td><td>customer care</td><td>1</td><td>3</td></tr><tr><td>351062</td><td>dropped calls</td><td>1</td><td>3</td></tr><tr><td>351200</td><td>dropped calls</td><td>1</td><td>3</td></tr><tr><td>350478</td><td>customer care</td><td>1</td><td>3</td></tr><tr><td>352348</td><td>dropped calls</td><td>1</td><td>3</td></tr><tr><td>350478</td><td>call competition</td><td>1</td><td>3</td></tr></table></div>"
      ]
     },
     "execution_count": 16,
     "metadata": {
      "application/vnd.teradata.resultset": "{\"resultSetID\":\"/Users/ck186030/Desktop/Analytics_Practice_2019/Summit/Use_case_walkthrough/files_walk_through_summit/Teradata/Resultsets/2019.06.30_15.23.48.584_CEST\",\"historyID\":311,\"chunkID\":\"00001\",\"sessionid\":\"\",\"portnum\":\"\",\"dockermode\":\"standalone\",\"totalRowCount\":10,\"rowLimit\":0,\"columnMetadata\":[{\"columnName\":\"customerid\",\"columnTypeName\":\"INTEGER\"},{\"columnNumber\":1,\"columnName\":\"ngram\",\"columnTypeName\":\"LONG VARCHAR\",\"length\":32000,\"scale\":32000},{\"columnNumber\":2,\"columnName\":\"n\",\"columnTypeName\":\"INTEGER\"},{\"columnNumber\":3,\"columnName\":\"frequency\",\"columnTypeName\":\"INTEGER\"}]}"
     },
     "output_type": "execute_result"
    }
   ],
   "source": [
    "SELECT\n",
    "TOP 10 *\n",
    "FROM TelcoChurn.csi_telco_all_churn_paths_token\n",
    "ORDER BY frequency DESC;"
   ]
  },
  {
   "cell_type": "code",
   "execution_count": 17,
   "metadata": {},
   "outputs": [
    {
     "data": {
      "application/vnd.teradata.resultset": "[{\"customerid\":\"350451\",\"frequency\":\"5\",\"n\":\"1\",\"ngram\":\"dropped calls\"},{\"customerid\":\"350451\",\"frequency\":\"4\",\"n\":\"1\",\"ngram\":\"customer care\"},{\"customerid\":\"350451\",\"frequency\":\"2\",\"n\":\"1\",\"ngram\":\"call competition\"},{\"customerid\":\"350451\",\"frequency\":\"2\",\"n\":\"1\",\"ngram\":\"support unresolved\"},{\"customerid\":\"350451\",\"frequency\":\"1\",\"n\":\"1\",\"ngram\":\"[activation\"},{\"customerid\":\"350451\",\"frequency\":\"1\",\"n\":\"1\",\"ngram\":\"closed]\"},{\"customerid\":\"350451\",\"frequency\":\"1\",\"n\":\"1\",\"ngram\":\"rate plan change\"}]\n",
      "text/html": [
       "<div class = \"td-resultset-table-div\" style = \"max-height: 197px; overflow-y: auto\"><style> table {border: 1px solid rgb(207, 207, 207) !important; border-collapse: collapse !important; margin-top: 1px !important;} th {border: 1px solid rgb(198,198,198) !important; border-collapse: collapse !important; padding: 2px 5px !important; font-size: 13px !important; min-width:150px !important; max-width: 150px !important; white-space: nowrap !important; overflow:hidden !important; text-overflow:ellipsis !important;} tr:nth-child(even) {background: rgba(243, 243, 243, 0.75) !important;} td {border: 1px solid rgb(207, 207, 207) !important; border-collapse: collapse !important; padding: 2px 5px !important; font-size: 13px !important; min-width:150px !important; max-width: 150px !important; white-space: nowrap !important; overflow:hidden !important; text-overflow:ellipsis !important;}</style><table><thead><tr style= \"background: #efefef;\"><th>customerid</th><th>ngram</th><th>n</th><th>frequency</th></tr></thead><tr><td>350451</td><td>dropped calls</td><td>1</td><td>5</td></tr><tr><td>350451</td><td>customer care</td><td>1</td><td>4</td></tr><tr><td>350451</td><td>call competition</td><td>1</td><td>2</td></tr><tr><td>350451</td><td>support unresolved</td><td>1</td><td>2</td></tr><tr><td>350451</td><td>[activation</td><td>1</td><td>1</td></tr><tr><td>350451</td><td>closed]</td><td>1</td><td>1</td></tr><tr><td>350451</td><td>rate plan change</td><td>1</td><td>1</td></tr></table></div>"
      ]
     },
     "execution_count": 17,
     "metadata": {
      "application/vnd.teradata.resultset": "{\"resultSetID\":\"/Users/ck186030/Desktop/Analytics_Practice_2019/Summit/Use_case_walkthrough/files_walk_through_summit/Teradata/Resultsets/2019.06.30_15.23.51.199_CEST\",\"historyID\":312,\"chunkID\":\"00001\",\"sessionid\":\"\",\"portnum\":\"\",\"dockermode\":\"standalone\",\"totalRowCount\":7,\"rowLimit\":0,\"columnMetadata\":[{\"columnName\":\"customerid\",\"columnTypeName\":\"INTEGER\"},{\"columnNumber\":1,\"columnName\":\"ngram\",\"columnTypeName\":\"LONG VARCHAR\",\"length\":32000,\"scale\":32000},{\"columnNumber\":2,\"columnName\":\"n\",\"columnTypeName\":\"INTEGER\"},{\"columnNumber\":3,\"columnName\":\"frequency\",\"columnTypeName\":\"INTEGER\"}]}"
     },
     "output_type": "execute_result"
    }
   ],
   "source": [
    "SELECT\n",
    "top 10 *\n",
    "FROM TelcoChurn.csi_telco_all_churn_paths_token\n",
    "WHERE customerid = 350451\n",
    "ORDER BY frequency DESC;"
   ]
  },
  {
   "cell_type": "code",
   "execution_count": 18,
   "metadata": {},
   "outputs": [
    {
     "data": {
      "text/plain": [
       "Success: 18 rows affected"
      ]
     },
     "execution_count": 18,
     "metadata": {
      "application/vnd.teradata.resultset": ""
     },
     "output_type": "execute_result"
    }
   ],
   "source": [
    "DROP TABLE TelcoChurn.csi_telco_all_nonchurn_paths_token;"
   ]
  },
  {
   "cell_type": "code",
   "execution_count": 19,
   "metadata": {},
   "outputs": [
    {
     "data": {
      "text/plain": [
       "Success: 0 rows affected"
      ]
     },
     "execution_count": 19,
     "metadata": {
      "application/vnd.teradata.resultset": ""
     },
     "output_type": "execute_result"
    }
   ],
   "source": [
    "CREATE MULTISET TABLE TelcoChurn.csi_telco_all_nonchurn_paths_token\n",
    "AS (SELECT *\n",
    "    FROM NGrams (\n",
    "    ON  TelcoChurn.csi_telco_all_nonchurn_paths\n",
    "    USING\n",
    "    TextColumn ('path')\n",
    "    Delimiter (',')\n",
    "    Grams ('1')\n",
    "    Overlapping ('false')\n",
    "    ToLowerCase ('true')\n",
    "    Punctuation ('\\[.,?\\!\\]')\n",
    "    Reset ('\\[.,?\\!\\]')\n",
    "    TotalGramCount ('false')\n",
    "    Accumulate ('customerid')\n",
    "  ) AS dt\n",
    ")\n",
    "WITH DATA;"
   ]
  },
  {
   "cell_type": "code",
   "execution_count": 20,
   "metadata": {},
   "outputs": [
    {
     "data": {
      "application/vnd.teradata.resultset": "[{\"customerid\":\"449708\",\"frequency\":\"13\",\"n\":\"1\",\"ngram\":\"customer care\"},{\"customerid\":\"671895\",\"frequency\":\"12\",\"n\":\"1\",\"ngram\":\"customer care\"},{\"customerid\":\"363769\",\"frequency\":\"12\",\"n\":\"1\",\"ngram\":\"customer care\"},{\"customerid\":\"501454\",\"frequency\":\"12\",\"n\":\"1\",\"ngram\":\"customer care\"},{\"customerid\":\"531558\",\"frequency\":\"12\",\"n\":\"1\",\"ngram\":\"customer care\"},{\"customerid\":\"578908\",\"frequency\":\"12\",\"n\":\"1\",\"ngram\":\"customer care\"},{\"customerid\":\"640253\",\"frequency\":\"12\",\"n\":\"1\",\"ngram\":\"customer care\"},{\"customerid\":\"544593\",\"frequency\":\"12\",\"n\":\"1\",\"ngram\":\"customer care\"},{\"customerid\":\"520941\",\"frequency\":\"12\",\"n\":\"1\",\"ngram\":\"customer care\"},{\"customerid\":\"371650\",\"frequency\":\"12\",\"n\":\"1\",\"ngram\":\"customer care\"}]\n",
      "text/html": [
       "<div class = \"td-resultset-table-div\" style = \"max-height: 257px; overflow-y: auto\"><style> table {border: 1px solid rgb(207, 207, 207) !important; border-collapse: collapse !important; margin-top: 1px !important;} th {border: 1px solid rgb(198,198,198) !important; border-collapse: collapse !important; padding: 2px 5px !important; font-size: 13px !important; min-width:150px !important; max-width: 150px !important; white-space: nowrap !important; overflow:hidden !important; text-overflow:ellipsis !important;} tr:nth-child(even) {background: rgba(243, 243, 243, 0.75) !important;} td {border: 1px solid rgb(207, 207, 207) !important; border-collapse: collapse !important; padding: 2px 5px !important; font-size: 13px !important; min-width:150px !important; max-width: 150px !important; white-space: nowrap !important; overflow:hidden !important; text-overflow:ellipsis !important;}</style><table><thead><tr style= \"background: #efefef;\"><th>customerid</th><th>ngram</th><th>n</th><th>frequency</th></tr></thead><tr><td>449708</td><td>customer care</td><td>1</td><td>13</td></tr><tr><td>671895</td><td>customer care</td><td>1</td><td>12</td></tr><tr><td>363769</td><td>customer care</td><td>1</td><td>12</td></tr><tr><td>501454</td><td>customer care</td><td>1</td><td>12</td></tr><tr><td>531558</td><td>customer care</td><td>1</td><td>12</td></tr><tr><td>578908</td><td>customer care</td><td>1</td><td>12</td></tr><tr><td>640253</td><td>customer care</td><td>1</td><td>12</td></tr><tr><td>544593</td><td>customer care</td><td>1</td><td>12</td></tr><tr><td>520941</td><td>customer care</td><td>1</td><td>12</td></tr><tr><td>371650</td><td>customer care</td><td>1</td><td>12</td></tr></table></div>"
      ]
     },
     "execution_count": 20,
     "metadata": {
      "application/vnd.teradata.resultset": "{\"resultSetID\":\"/Users/ck186030/Desktop/Analytics_Practice_2019/Summit/Use_case_walkthrough/files_walk_through_summit/Teradata/Resultsets/2019.06.30_15.24.16.161_CEST\",\"historyID\":315,\"chunkID\":\"00001\",\"sessionid\":\"\",\"portnum\":\"\",\"dockermode\":\"standalone\",\"totalRowCount\":10,\"rowLimit\":0,\"columnMetadata\":[{\"columnName\":\"customerid\",\"columnTypeName\":\"INTEGER\"},{\"columnNumber\":1,\"columnName\":\"ngram\",\"columnTypeName\":\"LONG VARCHAR\",\"length\":32000,\"scale\":32000},{\"columnNumber\":2,\"columnName\":\"n\",\"columnTypeName\":\"INTEGER\"},{\"columnNumber\":3,\"columnName\":\"frequency\",\"columnTypeName\":\"INTEGER\"}]}"
     },
     "output_type": "execute_result"
    }
   ],
   "source": [
    "SELECT\n",
    "TOP 10 *\n",
    "FROM TelcoChurn.csi_telco_all_nonchurn_paths_token\n",
    "ORDER BY frequency DESC;"
   ]
  },
  {
   "cell_type": "code",
   "execution_count": 21,
   "metadata": {},
   "outputs": [
    {
     "data": {
      "application/vnd.teradata.resultset": "[{\"customerid\":\"449708\",\"frequency\":\"13\",\"n\":\"1\",\"ngram\":\"customer care\"},{\"customerid\":\"449708\",\"frequency\":\"3\",\"n\":\"1\",\"ngram\":\"support resolution\"},{\"customerid\":\"449708\",\"frequency\":\"1\",\"n\":\"1\",\"ngram\":\"rate plan change\"},{\"customerid\":\"449708\",\"frequency\":\"1\",\"n\":\"1\",\"ngram\":\"bill overages\"},{\"customerid\":\"449708\",\"frequency\":\"1\",\"n\":\"1\",\"ngram\":\"[activation\"},{\"customerid\":\"449708\",\"frequency\":\"1\",\"n\":\"1\",\"ngram\":\"retail visit]\"}]\n",
      "text/html": [
       "<div class = \"td-resultset-table-div\" style = \"max-height: 177px; overflow-y: auto\"><style> table {border: 1px solid rgb(207, 207, 207) !important; border-collapse: collapse !important; margin-top: 1px !important;} th {border: 1px solid rgb(198,198,198) !important; border-collapse: collapse !important; padding: 2px 5px !important; font-size: 13px !important; min-width:150px !important; max-width: 150px !important; white-space: nowrap !important; overflow:hidden !important; text-overflow:ellipsis !important;} tr:nth-child(even) {background: rgba(243, 243, 243, 0.75) !important;} td {border: 1px solid rgb(207, 207, 207) !important; border-collapse: collapse !important; padding: 2px 5px !important; font-size: 13px !important; min-width:150px !important; max-width: 150px !important; white-space: nowrap !important; overflow:hidden !important; text-overflow:ellipsis !important;}</style><table><thead><tr style= \"background: #efefef;\"><th>customerid</th><th>ngram</th><th>n</th><th>frequency</th></tr></thead><tr><td>449708</td><td>customer care</td><td>1</td><td>13</td></tr><tr><td>449708</td><td>support resolution</td><td>1</td><td>3</td></tr><tr><td>449708</td><td>rate plan change</td><td>1</td><td>1</td></tr><tr><td>449708</td><td>bill overages</td><td>1</td><td>1</td></tr><tr><td>449708</td><td>[activation</td><td>1</td><td>1</td></tr><tr><td>449708</td><td>retail visit]</td><td>1</td><td>1</td></tr></table></div>"
      ]
     },
     "execution_count": 21,
     "metadata": {
      "application/vnd.teradata.resultset": "{\"resultSetID\":\"/Users/ck186030/Desktop/Analytics_Practice_2019/Summit/Use_case_walkthrough/files_walk_through_summit/Teradata/Resultsets/2019.06.30_15.24.17.583_CEST\",\"historyID\":316,\"chunkID\":\"00001\",\"sessionid\":\"\",\"portnum\":\"\",\"dockermode\":\"standalone\",\"totalRowCount\":6,\"rowLimit\":0,\"columnMetadata\":[{\"columnName\":\"customerid\",\"columnTypeName\":\"INTEGER\"},{\"columnNumber\":1,\"columnName\":\"ngram\",\"columnTypeName\":\"LONG VARCHAR\",\"length\":32000,\"scale\":32000},{\"columnNumber\":2,\"columnName\":\"n\",\"columnTypeName\":\"INTEGER\"},{\"columnNumber\":3,\"columnName\":\"frequency\",\"columnTypeName\":\"INTEGER\"}]}"
     },
     "output_type": "execute_result"
    }
   ],
   "source": [
    "SELECT\n",
    "top 10 *\n",
    "FROM TelcoChurn.csi_telco_all_nonchurn_paths_token\n",
    "WHERE customerid = 449708\n",
    "ORDER BY frequency DESC;"
   ]
  },
  {
   "cell_type": "markdown",
   "metadata": {},
   "source": [
    "#### 4b. Data Cleaning using OREPLACE"
   ]
  },
  {
   "cell_type": "code",
   "execution_count": 22,
   "metadata": {},
   "outputs": [
    {
     "data": {
      "text/plain": [
       "Success: 18 rows affected"
      ]
     },
     "execution_count": 22,
     "metadata": {
      "application/vnd.teradata.resultset": ""
     },
     "output_type": "execute_result"
    }
   ],
   "source": [
    "DROP TABLE TelcoChurn.csi_telco_all_churn_paths_token_clean; "
   ]
  },
  {
   "cell_type": "code",
   "execution_count": 23,
   "metadata": {},
   "outputs": [
    {
     "data": {
      "text/plain": [
       "Success: 0 rows affected"
      ]
     },
     "execution_count": 23,
     "metadata": {
      "application/vnd.teradata.resultset": ""
     },
     "output_type": "execute_result"
    }
   ],
   "source": [
    "CREATE MULTISET TABLE TelcoChurn.csi_telco_all_churn_paths_token_clean\n",
    "AS (SELECT \n",
    "  oreplace \n",
    "    (oreplace (ngram,'[',''), ']','')  AS ngram \n",
    "    , customerid\n",
    "    , n\n",
    "    , frequency \n",
    "    FROM TelcoChurn.csi_telco_all_churn_paths_token\n",
    ") \n",
    "WITH DATA;"
   ]
  },
  {
   "cell_type": "code",
   "execution_count": 24,
   "metadata": {},
   "outputs": [
    {
     "data": {
      "application/vnd.teradata.resultset": "[{\"customerid\":\"350451\",\"frequency\":\"5\",\"n\":\"1\",\"ngram\":\"dropped calls\"},{\"customerid\":\"350451\",\"frequency\":\"4\",\"n\":\"1\",\"ngram\":\"customer care\"},{\"customerid\":\"350451\",\"frequency\":\"2\",\"n\":\"1\",\"ngram\":\"support unresolved\"},{\"customerid\":\"350451\",\"frequency\":\"2\",\"n\":\"1\",\"ngram\":\"call competition\"},{\"customerid\":\"350451\",\"frequency\":\"1\",\"n\":\"1\",\"ngram\":\"activation\"},{\"customerid\":\"350451\",\"frequency\":\"1\",\"n\":\"1\",\"ngram\":\"rate plan change\"},{\"customerid\":\"350451\",\"frequency\":\"1\",\"n\":\"1\",\"ngram\":\"closed\"}]\n",
      "text/html": [
       "<div class = \"td-resultset-table-div\" style = \"max-height: 197px; overflow-y: auto\"><style> table {border: 1px solid rgb(207, 207, 207) !important; border-collapse: collapse !important; margin-top: 1px !important;} th {border: 1px solid rgb(198,198,198) !important; border-collapse: collapse !important; padding: 2px 5px !important; font-size: 13px !important; min-width:150px !important; max-width: 150px !important; white-space: nowrap !important; overflow:hidden !important; text-overflow:ellipsis !important;} tr:nth-child(even) {background: rgba(243, 243, 243, 0.75) !important;} td {border: 1px solid rgb(207, 207, 207) !important; border-collapse: collapse !important; padding: 2px 5px !important; font-size: 13px !important; min-width:150px !important; max-width: 150px !important; white-space: nowrap !important; overflow:hidden !important; text-overflow:ellipsis !important;}</style><table><thead><tr style= \"background: #efefef;\"><th>ngram</th><th>customerid</th><th>n</th><th>frequency</th></tr></thead><tr><td>dropped calls</td><td>350451</td><td>1</td><td>5</td></tr><tr><td>customer care</td><td>350451</td><td>1</td><td>4</td></tr><tr><td>support unresolved</td><td>350451</td><td>1</td><td>2</td></tr><tr><td>call competition</td><td>350451</td><td>1</td><td>2</td></tr><tr><td>activation</td><td>350451</td><td>1</td><td>1</td></tr><tr><td>rate plan change</td><td>350451</td><td>1</td><td>1</td></tr><tr><td>closed</td><td>350451</td><td>1</td><td>1</td></tr></table></div>"
      ]
     },
     "execution_count": 24,
     "metadata": {
      "application/vnd.teradata.resultset": "{\"resultSetID\":\"/Users/ck186030/Desktop/Analytics_Practice_2019/Summit/Use_case_walkthrough/files_walk_through_summit/Teradata/Resultsets/2019.06.30_15.24.22.324_CEST\",\"historyID\":319,\"chunkID\":\"00001\",\"sessionid\":\"\",\"portnum\":\"\",\"dockermode\":\"standalone\",\"totalRowCount\":7,\"rowLimit\":0,\"columnMetadata\":[{\"columnName\":\"ngram\",\"columnTypeName\":\"VARCHAR\",\"length\":8000,\"scale\":8000},{\"columnNumber\":1,\"columnName\":\"customerid\",\"columnTypeName\":\"INTEGER\"},{\"columnNumber\":2,\"columnName\":\"n\",\"columnTypeName\":\"INTEGER\"},{\"columnNumber\":3,\"columnName\":\"frequency\",\"columnTypeName\":\"INTEGER\"}]}"
     },
     "output_type": "execute_result"
    }
   ],
   "source": [
    "SELECT\n",
    "TOP 10 *\n",
    "FROM TelcoChurn.csi_telco_all_churn_paths_token_clean\n",
    "WHERE customerid = 350451\n",
    "ORDER BY frequency DESC;"
   ]
  },
  {
   "cell_type": "code",
   "execution_count": 25,
   "metadata": {},
   "outputs": [
    {
     "data": {
      "text/plain": [
       "Success: 18 rows affected"
      ]
     },
     "execution_count": 25,
     "metadata": {
      "application/vnd.teradata.resultset": ""
     },
     "output_type": "execute_result"
    }
   ],
   "source": [
    "DROP TABLE TelcoChurn.csi_telco_all_nonchurn_paths_token_clean;"
   ]
  },
  {
   "cell_type": "code",
   "execution_count": 26,
   "metadata": {},
   "outputs": [
    {
     "data": {
      "text/plain": [
       "Success: 0 rows affected"
      ]
     },
     "execution_count": 26,
     "metadata": {
      "application/vnd.teradata.resultset": ""
     },
     "output_type": "execute_result"
    }
   ],
   "source": [
    "CREATE MULTISET TABLE TelcoChurn.csi_telco_all_nonchurn_paths_token_clean\n",
    "AS (SELECT \n",
    "  oreplace \n",
    "  (oreplace (ngram,'[',''), ']','')  as ngram\n",
    "    , customerid\n",
    "    ,n\n",
    "    , frequency\n",
    "    FROM TelcoChurn.csi_telco_all_nonchurn_paths_token\n",
    ")\n",
    "WITH DATA;"
   ]
  },
  {
   "cell_type": "code",
   "execution_count": 27,
   "metadata": {},
   "outputs": [
    {
     "data": {
      "application/vnd.teradata.resultset": "[{\"customerid\":\"449708\",\"frequency\":\"13\",\"n\":\"1\",\"ngram\":\"customer care\"},{\"customerid\":\"449708\",\"frequency\":\"3\",\"n\":\"1\",\"ngram\":\"support resolution\"},{\"customerid\":\"449708\",\"frequency\":\"1\",\"n\":\"1\",\"ngram\":\"rate plan change\"},{\"customerid\":\"449708\",\"frequency\":\"1\",\"n\":\"1\",\"ngram\":\"activation\"},{\"customerid\":\"449708\",\"frequency\":\"1\",\"n\":\"1\",\"ngram\":\"bill overages\"},{\"customerid\":\"449708\",\"frequency\":\"1\",\"n\":\"1\",\"ngram\":\"retail visit\"}]\n",
      "text/html": [
       "<div class = \"td-resultset-table-div\" style = \"max-height: 177px; overflow-y: auto\"><style> table {border: 1px solid rgb(207, 207, 207) !important; border-collapse: collapse !important; margin-top: 1px !important;} th {border: 1px solid rgb(198,198,198) !important; border-collapse: collapse !important; padding: 2px 5px !important; font-size: 13px !important; min-width:150px !important; max-width: 150px !important; white-space: nowrap !important; overflow:hidden !important; text-overflow:ellipsis !important;} tr:nth-child(even) {background: rgba(243, 243, 243, 0.75) !important;} td {border: 1px solid rgb(207, 207, 207) !important; border-collapse: collapse !important; padding: 2px 5px !important; font-size: 13px !important; min-width:150px !important; max-width: 150px !important; white-space: nowrap !important; overflow:hidden !important; text-overflow:ellipsis !important;}</style><table><thead><tr style= \"background: #efefef;\"><th>ngram</th><th>customerid</th><th>n</th><th>frequency</th></tr></thead><tr><td>customer care</td><td>449708</td><td>1</td><td>13</td></tr><tr><td>support resolution</td><td>449708</td><td>1</td><td>3</td></tr><tr><td>rate plan change</td><td>449708</td><td>1</td><td>1</td></tr><tr><td>activation</td><td>449708</td><td>1</td><td>1</td></tr><tr><td>bill overages</td><td>449708</td><td>1</td><td>1</td></tr><tr><td>retail visit</td><td>449708</td><td>1</td><td>1</td></tr></table></div>"
      ]
     },
     "execution_count": 27,
     "metadata": {
      "application/vnd.teradata.resultset": "{\"resultSetID\":\"/Users/ck186030/Desktop/Analytics_Practice_2019/Summit/Use_case_walkthrough/files_walk_through_summit/Teradata/Resultsets/2019.06.30_15.24.27.044_CEST\",\"historyID\":322,\"chunkID\":\"00001\",\"sessionid\":\"\",\"portnum\":\"\",\"dockermode\":\"standalone\",\"totalRowCount\":6,\"rowLimit\":0,\"columnMetadata\":[{\"columnName\":\"ngram\",\"columnTypeName\":\"VARCHAR\",\"length\":8000,\"scale\":8000},{\"columnNumber\":1,\"columnName\":\"customerid\",\"columnTypeName\":\"INTEGER\"},{\"columnNumber\":2,\"columnName\":\"n\",\"columnTypeName\":\"INTEGER\"},{\"columnNumber\":3,\"columnName\":\"frequency\",\"columnTypeName\":\"INTEGER\"}]}"
     },
     "output_type": "execute_result"
    }
   ],
   "source": [
    "SELECT\n",
    "TOP 10 *\n",
    "FROM TelcoChurn.csi_telco_all_nonchurn_paths_token_clean\n",
    "WHERE customerid = 449708\n",
    "ORDER BY frequency DESC;"
   ]
  },
  {
   "cell_type": "markdown",
   "metadata": {},
   "source": [
    "#### 5. Create a master Analytics Data Set (ADS) prior to modelling for all known PATHS"
   ]
  },
  {
   "cell_type": "code",
   "execution_count": 28,
   "metadata": {},
   "outputs": [
    {
     "data": {
      "text/plain": [
       "Success: 17 rows affected"
      ]
     },
     "execution_count": 28,
     "metadata": {
      "application/vnd.teradata.resultset": ""
     },
     "output_type": "execute_result"
    }
   ],
   "source": [
    "DROP TABLE TelcoChurn.model_dataset_raw;"
   ]
  },
  {
   "cell_type": "code",
   "execution_count": 29,
   "metadata": {},
   "outputs": [
    {
     "data": {
      "text/plain": [
       "Success: 0 rows affected"
      ]
     },
     "execution_count": 29,
     "metadata": {
      "application/vnd.teradata.resultset": ""
     },
     "output_type": "execute_result"
    }
   ],
   "source": [
    "CREATE MULTISET TABLE TelcoChurn.model_dataset_raw\n",
    "AS (\n",
    "    SELECT\n",
    "    raw.customerid\n",
    "    , raw.token\n",
    "    , raw.category\n",
    "    FROM(\n",
    "        SELECT\n",
    "        customerid\n",
    "        ,lower(ngram) AS token\n",
    "        ,'NON CHURN' as category\n",
    "        FROM TelcoChurn.csi_telco_all_nonchurn_paths_token_clean\n",
    "        UNION ALL\n",
    "        SELECT\n",
    "        customerid\n",
    "        ,lower(ngram) AS token,\n",
    "        'CHURN' as category\n",
    "        FROM TelcoChurn.csi_telco_all_churn_paths_token_clean\n",
    "        ) raw\n",
    "    )\n",
    "WITH DATA;"
   ]
  },
  {
   "cell_type": "code",
   "execution_count": 30,
   "metadata": {},
   "outputs": [
    {
     "data": {
      "application/vnd.teradata.resultset": "[{\"category\":\"NON CHURN\",\"customerid\":\"472787\",\"token\":\"activation\"},{\"category\":\"NON CHURN\",\"customerid\":\"472787\",\"token\":\"support resolution\"},{\"category\":\"NON CHURN\",\"customerid\":\"472787\",\"token\":\"bill overages\"},{\"category\":\"NON CHURN\",\"customerid\":\"447501\",\"token\":\"support resolution\"},{\"category\":\"NON CHURN\",\"customerid\":\"447501\",\"token\":\"customer care\"},{\"category\":\"NON CHURN\",\"customerid\":\"447501\",\"token\":\"activation\"},{\"category\":\"NON CHURN\",\"customerid\":\"447501\",\"token\":\"support resolution\"},{\"category\":\"NON CHURN\",\"customerid\":\"472787\",\"token\":\"customer care\"},{\"category\":\"NON CHURN\",\"customerid\":\"472787\",\"token\":\"customer care\"},{\"category\":\"NON CHURN\",\"customerid\":\"472787\",\"token\":\"rate plan change\"}]\n",
      "text/html": [
       "<div class = \"td-resultset-table-div\" style = \"max-height: 257px; overflow-y: auto\"><style> table {border: 1px solid rgb(207, 207, 207) !important; border-collapse: collapse !important; margin-top: 1px !important;} th {border: 1px solid rgb(198,198,198) !important; border-collapse: collapse !important; padding: 2px 5px !important; font-size: 13px !important; min-width:150px !important; max-width: 150px !important; white-space: nowrap !important; overflow:hidden !important; text-overflow:ellipsis !important;} tr:nth-child(even) {background: rgba(243, 243, 243, 0.75) !important;} td {border: 1px solid rgb(207, 207, 207) !important; border-collapse: collapse !important; padding: 2px 5px !important; font-size: 13px !important; min-width:150px !important; max-width: 150px !important; white-space: nowrap !important; overflow:hidden !important; text-overflow:ellipsis !important;}</style><table><thead><tr style= \"background: #efefef;\"><th>customerid</th><th>token</th><th>category</th></tr></thead><tr><td>472787</td><td>activation</td><td>NON CHURN</td></tr><tr><td>472787</td><td>support resolution</td><td>NON CHURN</td></tr><tr><td>472787</td><td>bill overages</td><td>NON CHURN</td></tr><tr><td>447501</td><td>support resolution</td><td>NON CHURN</td></tr><tr><td>447501</td><td>customer care</td><td>NON CHURN</td></tr><tr><td>447501</td><td>activation</td><td>NON CHURN</td></tr><tr><td>447501</td><td>support resolution</td><td>NON CHURN</td></tr><tr><td>472787</td><td>customer care</td><td>NON CHURN</td></tr><tr><td>472787</td><td>customer care</td><td>NON CHURN</td></tr><tr><td>472787</td><td>rate plan change</td><td>NON CHURN</td></tr></table></div>"
      ]
     },
     "execution_count": 30,
     "metadata": {
      "application/vnd.teradata.resultset": "{\"resultSetID\":\"/Users/ck186030/Desktop/Analytics_Practice_2019/Summit/Use_case_walkthrough/files_walk_through_summit/Teradata/Resultsets/2019.06.30_15.24.53.590_CEST\",\"historyID\":325,\"chunkID\":\"00001\",\"sessionid\":\"\",\"portnum\":\"\",\"dockermode\":\"standalone\",\"totalRowCount\":10,\"rowLimit\":0,\"columnMetadata\":[{\"columnName\":\"customerid\",\"columnTypeName\":\"INTEGER\"},{\"columnNumber\":1,\"columnName\":\"token\",\"columnTypeName\":\"VARCHAR\",\"length\":8000,\"scale\":8000},{\"columnNumber\":2,\"columnName\":\"category\",\"columnTypeName\":\"VARCHAR\",\"length\":9,\"scale\":9}]}"
     },
     "output_type": "execute_result"
    }
   ],
   "source": [
    "SELECT\n",
    "TOP 10 *\n",
    "FROM TelcoChurn.model_dataset_raw;"
   ]
  }
 ],
 "metadata": {
  "kernelspec": {
   "display_name": "Teradata SQL",
   "language": "Teradata SQL",
   "name": "teradatasql"
  },
  "language_info": {
   "codemirror_mode": "Teradata SQL",
   "file_extension": ".tdrs",
   "mimetype": "application/vnd.teradata.resultset",
   "name": "Teradata SQL",
   "nbconvert_exporter": "",
   "pygments_lexer": "",
   "version": "16.20"
  }
 },
 "nbformat": 4,
 "nbformat_minor": 2
}
